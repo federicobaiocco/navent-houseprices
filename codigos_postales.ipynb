{
 "cells": [
  {
   "cell_type": "markdown",
   "metadata": {
    "colab_type": "text",
    "id": "PCFZThENYWJG"
   },
   "source": [
    "# Valuación de inmuebles - Navent"
   ]
  },
  {
   "cell_type": "code",
   "execution_count": 1,
   "metadata": {
    "colab": {},
    "colab_type": "code",
    "id": "9BGMH2_wYWJI"
   },
   "outputs": [],
   "source": [
    "import numpy as np \n",
    "import pandas as pd\n",
    "from sklearn.base import BaseEstimator, TransformerMixin\n",
    "from sklearn.preprocessing import OneHotEncoder, StandardScaler\n",
    "from sklearn.impute import SimpleImputer\n",
    "from sklearn.pipeline import FeatureUnion, Pipeline \n",
    "import datetime\n",
    "import category_encoders as ce \n",
    "from sklearn.model_selection import train_test_split\n",
    "import xgboost as xgb\n",
    "from sklearn.experimental import enable_iterative_imputer\n",
    "from sklearn.impute import IterativeImputer\n",
    "from sklearn.metrics import mean_absolute_error\n",
    "import re\n",
    "#GEOCODER\n",
    "from geopy.geocoders import Nominatim\n",
    "import ssl\n",
    "import certifi\n",
    "import geopy.geocoders\n",
    "from geopy.exc import GeocoderTimedOut\n",
    "#------------\n",
    "from sklearn.impute import KNNImputer\n",
    "from IPython.display import clear_output"
   ]
  },
  {
   "cell_type": "code",
   "execution_count": null,
   "metadata": {},
   "outputs": [],
   "source": [
    "xgb.XGBRegressor()"
   ]
  },
  {
   "cell_type": "markdown",
   "metadata": {
    "colab_type": "text",
    "id": "WpCzkFXtYWJM"
   },
   "source": [
    "# Preprocesamiento"
   ]
  },
  {
   "cell_type": "code",
   "execution_count": 3,
   "metadata": {
    "colab": {},
    "colab_type": "code",
    "id": "rDGNbWM2YWJN"
   },
   "outputs": [],
   "source": [
    "#df = pd.read_csv('./train.csv', index_col='id')\n",
    "df = pd.read_csv('./train_data_geocoded/train-geocoded-imputed.csv', index_col='id')"
   ]
  },
  {
   "cell_type": "code",
   "execution_count": 4,
   "metadata": {},
   "outputs": [
    {
     "data": {
      "text/html": [
       "<div>\n",
       "<style scoped>\n",
       "    .dataframe tbody tr th:only-of-type {\n",
       "        vertical-align: middle;\n",
       "    }\n",
       "\n",
       "    .dataframe tbody tr th {\n",
       "        vertical-align: top;\n",
       "    }\n",
       "\n",
       "    .dataframe thead th {\n",
       "        text-align: right;\n",
       "    }\n",
       "</style>\n",
       "<table border=\"1\" class=\"dataframe\">\n",
       "  <thead>\n",
       "    <tr style=\"text-align: right;\">\n",
       "      <th></th>\n",
       "      <th>tipodepropiedad</th>\n",
       "      <th>ciudad</th>\n",
       "      <th>provincia</th>\n",
       "      <th>antiguedad</th>\n",
       "      <th>habitaciones</th>\n",
       "      <th>garages</th>\n",
       "      <th>banos</th>\n",
       "      <th>metroscubiertos</th>\n",
       "      <th>metrostotales</th>\n",
       "      <th>gimnasio</th>\n",
       "      <th>usosmultiples</th>\n",
       "      <th>piscina</th>\n",
       "      <th>precio</th>\n",
       "      <th>ano</th>\n",
       "      <th>cp</th>\n",
       "      <th>zona</th>\n",
       "      <th>asenta</th>\n",
       "    </tr>\n",
       "    <tr>\n",
       "      <th>id</th>\n",
       "      <th></th>\n",
       "      <th></th>\n",
       "      <th></th>\n",
       "      <th></th>\n",
       "      <th></th>\n",
       "      <th></th>\n",
       "      <th></th>\n",
       "      <th></th>\n",
       "      <th></th>\n",
       "      <th></th>\n",
       "      <th></th>\n",
       "      <th></th>\n",
       "      <th></th>\n",
       "      <th></th>\n",
       "      <th></th>\n",
       "      <th></th>\n",
       "      <th></th>\n",
       "    </tr>\n",
       "  </thead>\n",
       "  <tbody>\n",
       "    <tr>\n",
       "      <th>254099</th>\n",
       "      <td>Apartamento</td>\n",
       "      <td>Benito Juárez</td>\n",
       "      <td>Distrito Federal</td>\n",
       "      <td>NaN</td>\n",
       "      <td>2.0</td>\n",
       "      <td>1.0</td>\n",
       "      <td>2.0</td>\n",
       "      <td>80.0</td>\n",
       "      <td>80.0</td>\n",
       "      <td>0.0</td>\n",
       "      <td>0.0</td>\n",
       "      <td>0.0</td>\n",
       "      <td>2273000.0</td>\n",
       "      <td>2015</td>\n",
       "      <td>3103.0</td>\n",
       "      <td>Urbano</td>\n",
       "      <td>Colonia</td>\n",
       "    </tr>\n",
       "    <tr>\n",
       "      <th>53461</th>\n",
       "      <td>Casa en condominio</td>\n",
       "      <td>La Magdalena Contreras</td>\n",
       "      <td>Distrito Federal</td>\n",
       "      <td>10.0</td>\n",
       "      <td>3.0</td>\n",
       "      <td>2.0</td>\n",
       "      <td>2.0</td>\n",
       "      <td>268.0</td>\n",
       "      <td>180.0</td>\n",
       "      <td>0.0</td>\n",
       "      <td>0.0</td>\n",
       "      <td>0.0</td>\n",
       "      <td>3600000.0</td>\n",
       "      <td>2013</td>\n",
       "      <td>10710.0</td>\n",
       "      <td>Urbano</td>\n",
       "      <td>Colonia</td>\n",
       "    </tr>\n",
       "  </tbody>\n",
       "</table>\n",
       "</div>"
      ],
      "text/plain": [
       "           tipodepropiedad                  ciudad         provincia  \\\n",
       "id                                                                     \n",
       "254099         Apartamento           Benito Juárez  Distrito Federal   \n",
       "53461   Casa en condominio  La Magdalena Contreras  Distrito Federal   \n",
       "\n",
       "        antiguedad  habitaciones  garages  banos  metroscubiertos  \\\n",
       "id                                                                  \n",
       "254099         NaN           2.0      1.0    2.0             80.0   \n",
       "53461         10.0           3.0      2.0    2.0            268.0   \n",
       "\n",
       "        metrostotales  gimnasio  usosmultiples  piscina     precio   ano  \\\n",
       "id                                                                         \n",
       "254099           80.0       0.0            0.0      0.0  2273000.0  2015   \n",
       "53461           180.0       0.0            0.0      0.0  3600000.0  2013   \n",
       "\n",
       "             cp    zona   asenta  \n",
       "id                                \n",
       "254099   3103.0  Urbano  Colonia  \n",
       "53461   10710.0  Urbano  Colonia  "
      ]
     },
     "execution_count": 4,
     "metadata": {},
     "output_type": "execute_result"
    }
   ],
   "source": [
    "df.head(2)"
   ]
  },
  {
   "cell_type": "markdown",
   "metadata": {
    "colab_type": "text",
    "id": "w9qvzgyqYWJS"
   },
   "source": [
    "## Clases de pipeline"
   ]
  },
  {
   "cell_type": "code",
   "execution_count": 11,
   "metadata": {
    "colab": {},
    "colab_type": "code",
    "id": "jrcSQeJSYWJT"
   },
   "outputs": [],
   "source": [
    "# Dropear columnas que no se usan\n",
    "class DropFeatures( BaseEstimator, TransformerMixin ):\n",
    "    \n",
    "    def __init__( self, features_to_drop ):\n",
    "        self._features_to_drop = features_to_drop \n",
    "      \n",
    "    def fit( self, X, y = None ):\n",
    "        return self \n",
    "    \n",
    "    def transform( self, X, y = None ):\n",
    "        return X.drop(self._features_to_drop,axis=1 )"
   ]
  },
  {
   "cell_type": "code",
   "execution_count": 12,
   "metadata": {
    "colab": {},
    "colab_type": "code",
    "id": "b5cG5tyhYWJV"
   },
   "outputs": [],
   "source": [
    "#Tomo el año de las fechas\n",
    "class DateTransformer( BaseEstimator, TransformerMixin ):\n",
    "      \n",
    "    def fit( self, X, y = None ):\n",
    "        return self \n",
    "    \n",
    "    def transform( self, X, y = None ):\n",
    "        X['ano'] = X.fecha.dt.year\n",
    "        X = X.drop('fecha',axis=1)\n",
    "        return X"
   ]
  },
  {
   "cell_type": "code",
   "execution_count": 13,
   "metadata": {
    "colab": {},
    "colab_type": "code",
    "id": "5wUFhkDIYWJZ"
   },
   "outputs": [],
   "source": [
    "#convertir lat y lng en latlng\n",
    "class LatLngGenerator( BaseEstimator, TransformerMixin ):\n",
    "      \n",
    "    def fit( self, X, y = None ):\n",
    "        return self \n",
    "    \n",
    "    def transform( self, X, y = None ):\n",
    "        X['latlng'] = X.apply(lambda row: '{},{}'.format(row['lat'], row['lng']), axis=1)\n",
    "        X = X.drop(['lat','lng'],axis=1)\n",
    "        return X"
   ]
  },
  {
   "cell_type": "code",
   "execution_count": 14,
   "metadata": {
    "colab": {},
    "colab_type": "code",
    "id": "3aNaB9trYWJd"
   },
   "outputs": [],
   "source": [
    "class FullAddressGenerator( BaseEstimator, TransformerMixin ):\n",
    "      \n",
    "    def __init__( self ):\n",
    "        self.ctx = ssl.create_default_context(cafile=certifi.where())\n",
    "        geopy.geocoders.options.default_ssl_context = self.ctx\n",
    "        self.geolocator = Nominatim(user_agent=\"jupytercolab\")\n",
    "        \n",
    "    def do_reverse_geocode(self, latlng, attempt=1, max_attempts=20):\n",
    "        try:\n",
    "            return self.geolocator.reverse(latlng)\n",
    "        except GeocoderTimedOut:\n",
    "            if attempt <= max_attempts:\n",
    "                print('\\nTIMEOUT EXCEPT. ATTEMPT N'+str(attempt)+'\\n')\n",
    "                return self.do_reverse_geocode(latlng, attempt=attempt+1)\n",
    "            raise\n",
    "            \n",
    "    def fit( self, X, y = None ):\n",
    "        return self \n",
    "    \n",
    "    def transform( self, X, y = None ):\n",
    "        processed_count = 0\n",
    "        \n",
    "        for index, row in X.iterrows():\n",
    "            if(row.latlng != 'nan,nan'):\n",
    "                try:\n",
    "                    address_aux = self.do_reverse_geocode(row.latlng).address\n",
    "                    X.loc[index,'full_address'] = address_aux \n",
    "                except:\n",
    "                    print('Except!!')\n",
    "            elif row.latlng == 'nan,nan':\n",
    "                X.loc[index,'full_address'] = np.nan\n",
    "            processed_count += 1\n",
    "            print('--FullAddressGenerator for index '+str(index)+' done. -- ('+str(processed_count)+' of '+str(X.shape[0])+') processed records')\n",
    "            if processed_count % 20 == 0:\n",
    "                clear_output(wait=True)\n",
    "            if processed_count % 10000 == 0:\n",
    "                X.to_csv('backup_FullAddressGenerator_'+str(processed_count)+'.csv')     \n",
    "        X.to_csv('train_data_with_fulladdress.csv') \n",
    "        print('Data backup saved at ./Data/train_data_with_fulladdress.csv')\n",
    "        return X"
   ]
  },
  {
   "cell_type": "code",
   "execution_count": 15,
   "metadata": {
    "colab": {},
    "colab_type": "code",
    "id": "JJQDYn4jYWJg"
   },
   "outputs": [],
   "source": [
    "class FullAddressImputer( BaseEstimator, TransformerMixin ):\n",
    "      \n",
    "    def __init__( self ):\n",
    "        self.ctx = ssl.create_default_context(cafile=certifi.where())\n",
    "        geopy.geocoders.options.default_ssl_context = self.ctx\n",
    "        self.geolocator = Nominatim(user_agent=\"jupyterc\")\n",
    "        \n",
    "    def do_geocode(self, address, attempt=1, max_attempts=20):\n",
    "        try:\n",
    "            add = self.geolocator.geocode(address)\n",
    "            if add != None:\n",
    "                return add.address\n",
    "            return np.nan\n",
    "        except GeocoderTimedOut:\n",
    "            if attempt <= max_attempts:\n",
    "                print('\\n\\n\\nERROR TIMEOUT N'+str(attempt)+'\\n\\n')\n",
    "                return self.do_geocode(address, attempt=attempt+1)\n",
    "            raise    \n",
    "        \n",
    "    def fit( self, X, y = None ):\n",
    "        return self \n",
    "    \n",
    "    def transform( self, X, y = None ):\n",
    "        processed_count = 0\n",
    "        new_addresses_found = 0\n",
    "        for index, row in X.iterrows():\n",
    "            if (str(X.loc[index,'full_address']) == 'nan') & (str(X.loc[index,'direccion']) != 'nan'): #Si no tiene full_address pero tiene address..\n",
    "                row_address = row.direccion\n",
    "                if str(X.loc[index,'provincia']) != 'nan':\n",
    "                    row_address += ' '\n",
    "                    row_address += str(X.loc[index,'provincia'])\n",
    "                if str(X.loc[index,'ciudad']) != 'nan':\n",
    "                    row_address += ' '\n",
    "                    row_address += str(X.loc[index,'ciudad'])\n",
    "                row_address += ' MX'\n",
    "                address_aux = self.do_geocode(row_address)\n",
    "                if address_aux != np.nan:\n",
    "                    new_addresses_found +=1\n",
    "                X.loc[index,'full_address'] = address_aux\n",
    "            processed_count += 1\n",
    "            print('--FullAddressImputer for index '+str(index)+' done. -- ('+str(processed_count)+' of '+str(X.shape[0])+')')\n",
    "            if processed_count % 10000 == 0:\n",
    "                X.to_csv('backup_FullAddressImputer_'+str(processed_count)+'.csv') \n",
    "            if processed_count % 20 == 0:\n",
    "                clear_output(wait=True)\n",
    "        X.to_csv('train_data_with_fulladdress.csv') \n",
    "        print('Data backup saved at ./Data/train_data_with_fulladdress.csv')\n",
    "        print('FullAddressImputer found '+str(new_addresses_found)+' new addresses.')\n",
    "        return X"
   ]
  },
  {
   "cell_type": "code",
   "execution_count": 16,
   "metadata": {
    "colab": {},
    "colab_type": "code",
    "id": "Va4VNCAZYWJi"
   },
   "outputs": [],
   "source": [
    "class CpGenerator( BaseEstimator, TransformerMixin ):\n",
    "      \n",
    "    def fit( self, X, y = None ):\n",
    "        return self \n",
    "    \n",
    "    def transform( self, X, y = None ):\n",
    "        X['cp'] = [re.findall('\\D(\\d{5})\\D',' '+str(cp)+' ')[0] if len(re.findall('\\D(\\d{5})\\D',' '+str(cp)+' ')) == 1 else np.nan for cp in X.full_address]\n",
    "        return X"
   ]
  },
  {
   "cell_type": "code",
   "execution_count": 17,
   "metadata": {
    "colab": {},
    "colab_type": "code",
    "id": "ukAe-rZGYWJl"
   },
   "outputs": [],
   "source": [
    "#Encoder para las categorias\n",
    "class CategoryEncoder( BaseEstimator, TransformerMixin ):\n",
    "      \n",
    "    def fit( self, X, y = None ):\n",
    "        self.ciudad_te = ce.TargetEncoder().fit(X['ciudad'], X['precio'])\n",
    "        self.tipo_te = ce.TargetEncoder().fit(X['tipodepropiedad'], X['precio'])\n",
    "        self.prov_te = ce.TargetEncoder().fit(X['provincia'], X['precio'])\n",
    "        self.zona_te = ce.TargetEncoder().fit(X['zona'], X['precio'])\n",
    "        self.asenta_te = ce.TargetEncoder().fit(X['asenta'], X['precio'])\n",
    "        return self \n",
    "    \n",
    "    def transform( self, X, y = None ):\n",
    "        X['ciudad'] = self.ciudad_te.transform(X['ciudad'])\n",
    "        X['tipodepropiedad'] = self.tipo_te.transform(X['tipodepropiedad'])\n",
    "        X['provincia'] = self.prov_te.transform(X['provincia'])\n",
    "        X['zona'] = self.zona_te.transform(X['zona'])\n",
    "        X['asenta'] = self.asenta_te.transform(X['asenta'])\n",
    "        return X"
   ]
  },
  {
   "cell_type": "code",
   "execution_count": 18,
   "metadata": {
    "colab": {},
    "colab_type": "code",
    "id": "gLHqqzpyMlCz"
   },
   "outputs": [],
   "source": [
    "class ZonaAndAsentaGenerator( BaseEstimator, TransformerMixin ):\n",
    "    \n",
    "    def __init__( self ):\n",
    "        self.cp_df = pd.concat(pd.read_excel('./CPdescarga.xls', sheet_name=None), ignore_index=True)\n",
    "        self.cp_df = self.cp_df[['d_codigo','d_zona','d_tipo_asenta']].dropna()\n",
    "        self.cp_df[['d_codigo']] = self.cp_df.d_codigo.astype(int)\n",
    "        self.cp_df[['d_codigo']] = self.cp_df.d_codigo.astype(object)\n",
    "    \n",
    "    def find_by_cp(self, cp):\n",
    "        cp = float(cp)\n",
    "        row = self.cp_df[self.cp_df.d_codigo == cp] \n",
    "        \n",
    "        if row.shape[0] == 0: #si no encuentra con este cp\n",
    "            count = 1\n",
    "            while row.shape[0] == 0 and count<6: #empiezo a probar con cps restando 1 (5 intentos)\n",
    "                row = self.cp_df[self.cp_df.d_codigo == (cp-count)] \n",
    "                count +=1\n",
    "            if row.shape[0] == 0: #termino el while y no lo encontró..\n",
    "                row = np.nan\n",
    "        \n",
    "        if type(row) == float:\n",
    "            zona = np.nan\n",
    "            tipo_asenta = np.nan\n",
    "        elif row.shape[0] > 0:\n",
    "            zona = row.mode().iloc[0,1]\n",
    "            tipo_asenta = row.mode().iloc[0,2]\n",
    "        elif row == np.nan:\n",
    "            zona = np.nan\n",
    "            tipo_asenta = np.nan\n",
    "            \n",
    "        data = [zona, tipo_asenta]\n",
    "        return data\n",
    "    \n",
    "    def fit( self, X, y = None ):\n",
    "        return self \n",
    "    \n",
    "    def transform( self, X, y = None ):\n",
    "        X['zona'] = np.nan\n",
    "        X['asenta'] = np.nan\n",
    "        processed_count = 0\n",
    "        for index, row in X.iterrows():\n",
    "            cp = X.loc[index,'cp']\n",
    "            if str(cp) != 'nan':\n",
    "                data = self.find_by_cp(cp)\n",
    "                X.loc[index,'zona'] = data[0]\n",
    "                X.loc[index,'asenta'] = data[1]\n",
    "                processed_count += 1\n",
    "                print('ZonaAndAsentaGenerator imputed'+str(processed_count)+ ' zonas and asentas') \n",
    "                if processed_count % 10 == 0:\n",
    "                  clear_output(wait=True)\n",
    "        X.to_csv('train_data_with_fulladdress.csv') \n",
    "        print('Data backup saved at ./Data/train_data_with_fulladdress.csv')\n",
    "        return X"
   ]
  },
  {
   "cell_type": "code",
   "execution_count": 19,
   "metadata": {
    "colab": {},
    "colab_type": "code",
    "id": "u0GKMma-YWJo"
   },
   "outputs": [],
   "source": [
    "#Iterative imputer en los valores faltantes\n",
    "\n",
    "class MissingValuesImputer( BaseEstimator, TransformerMixin ):\n",
    "      \n",
    "    def __init__( self, features_to_impute ):\n",
    "        self._features_to_impute = features_to_impute\n",
    "        \n",
    "    def fit( self, X, y = None ):\n",
    "        return self \n",
    "    \n",
    "    def transform( self, X, y = None ):\n",
    "        imp = IterativeImputer(missing_values=np.nan, max_iter=30, random_state=42)\n",
    "        X[features_to_impute] = imp.fit_transform(X[features_to_impute])\n",
    "        return X"
   ]
  },
  {
   "cell_type": "code",
   "execution_count": 20,
   "metadata": {
    "colab": {},
    "colab_type": "code",
    "id": "oZuqcc5ZYWJu"
   },
   "outputs": [],
   "source": [
    "class CpImputer( BaseEstimator, TransformerMixin ):\n",
    "      \n",
    "    def fit( self, X, y = None ):\n",
    "        return self \n",
    "    \n",
    "    def impute_by_idzona(self, X):\n",
    "        imputed_count = 0\n",
    "        for index, row in X.iterrows():\n",
    "            if (str(X.loc[index,'cp'])=='nan') & (str(X.loc[index,'idzona'])!='nan'):\n",
    "                id_zona = X.loc[index,'idzona']\n",
    "                idzona_most_freq_cp_df = X[(X.idzona == id_zona) & (~X.cp.isna())]\n",
    "                if idzona_most_freq_cp_df.shape[0] > 1:\n",
    "                    cp = idzona_most_freq_cp_df.mode()['cp'][0]\n",
    "                    imputed_count += 1\n",
    "                    X.loc[index,'cp'] = cp\n",
    "        print('\\n------\\nCP Imputer found '+str(imputed_count)+' new CPs by idzona\\n------\\\\n')\n",
    "        return X\n",
    "        \n",
    "    def impute_by_ciudad(self, X):\n",
    "        imputed_count = 0\n",
    "        for index, row in X.iterrows():\n",
    "            if (str(X.loc[index,'cp'])=='nan') & (str(X.loc[index,'ciudad'])!='nan'):\n",
    "                ciudad = X.loc[index,'ciudad']\n",
    "                ciudad_most_freq_cp_df = X[(X.ciudad == ciudad) & (~X.cp.isna())]\n",
    "                if ciudad_most_freq_cp_df.shape[0] > 1:\n",
    "                    cp = ciudad_most_freq_cp_df.mode()['cp'][0]\n",
    "                    imputed_count += 1\n",
    "                    X.loc[index,'cp'] = cp\n",
    "        print('\\n------\\nCP Imputer found '+str(imputed_count)+' new CPs by ciudad\\n------\\\\n')\n",
    "        return X\n",
    "    \n",
    "    def impute_by_provincia(self, X):\n",
    "        imputed_count = 0\n",
    "        for index, row in X.iterrows():\n",
    "            if (str(X.loc[index,'cp'])=='nan') & (str(X.loc[index,'provincia'])!='nan'):\n",
    "                provincia = X.loc[index,'provincia']\n",
    "                provincia_most_freq_cp_df = X[(X.provincia == provincia) & (~X.cp.isna())]\n",
    "                if provincia_most_freq_cp_df.shape[0] > 1:\n",
    "                    cp = provincia_most_freq_cp_df.mode()['cp'][0]\n",
    "                    imputed_count += 1\n",
    "                    X.loc[index,'cp'] = cp\n",
    "        print('\\n------\\nCP Imputer found '+str(imputed_count)+' new CPs by provincia\\n------\\\\n')\n",
    "        return X\n",
    "    \n",
    "    def transform( self, X, y = None ):\n",
    "        X = self.impute_by_idzona(X)\n",
    "        X = self.impute_by_ciudad(X)\n",
    "        X = self.impute_by_provincia(X)\n",
    "        X.to_csv('train_data_with_fulladdress.csv') \n",
    "        print('Data backup saved at ./Data/train_data_with_fulladdress.csv')\n",
    "        return X"
   ]
  },
  {
   "cell_type": "code",
   "execution_count": 21,
   "metadata": {
    "colab": {},
    "colab_type": "code",
    "id": "8cAqwDG2YWJx"
   },
   "outputs": [],
   "source": [
    "class ZonaAndAsentaGenerator( BaseEstimator, TransformerMixin ):\n",
    "    \n",
    "    def __init__( self ):\n",
    "        self.cp_df = pd.concat(pd.read_excel('./CPdescarga.xls', sheet_name=None), ignore_index=True)\n",
    "        self.cp_df = self.cp_df[['d_codigo','d_zona','d_tipo_asenta']].dropna()\n",
    "        self.cp_df[['d_codigo']] = self.cp_df.d_codigo.astype(int)\n",
    "        self.cp_df[['d_codigo']] = self.cp_df.d_codigo.astype(object)\n",
    "    \n",
    "    def find_by_cp(self, cp):\n",
    "        cp = float(cp)\n",
    "        row = self.cp_df[self.cp_df.d_codigo == cp] \n",
    "        \n",
    "        if row.shape[0] == 0: #si no encuentra con este cp\n",
    "            count = 1\n",
    "            while row.shape[0] == 0 and count<6: #empiezo a probar con cps restando 1 (5 intentos)\n",
    "                row = self.cp_df[self.cp_df.d_codigo == (cp-count)] \n",
    "                count +=1\n",
    "            if row.shape[0] == 0: #termino el while y no lo encontró..\n",
    "                row = np.nan\n",
    "        \n",
    "        if type(row) == float:\n",
    "            zona = np.nan\n",
    "            tipo_asenta = np.nan\n",
    "        elif row.shape[0] > 0:\n",
    "            zona = row.mode().iloc[0,1]\n",
    "            tipo_asenta = row.mode().iloc[0,2]\n",
    "        elif row == np.nan:\n",
    "            zona = np.nan\n",
    "            tipo_asenta = np.nan\n",
    "            \n",
    "        data = [zona, tipo_asenta]\n",
    "        return data\n",
    "    \n",
    "    def fit( self, X, y = None ):\n",
    "        return self \n",
    "    \n",
    "    def transform( self, X, y = None ):\n",
    "        X['zona'] = np.nan\n",
    "        X['asenta'] = np.nan\n",
    "        processed_count = 0\n",
    "        for index, row in X.iterrows():\n",
    "            cp = X.loc[index,'cp']\n",
    "            if str(cp) != 'nan':\n",
    "                data = self.find_by_cp(cp)\n",
    "                X.loc[index,'zona'] = data[0]\n",
    "                X.loc[index,'asenta'] = data[1]\n",
    "                processed_count += 1\n",
    "                print('ZonaAndAsentaGenerator imputed'+str(processed_count)+ ' zonas and asentas') \n",
    "                if processed_count % 10 == 0:\n",
    "                  clear_output(wait=True)\n",
    "        X.to_csv('train_data_with_fulladdress.csv') \n",
    "        print('Data backup saved at ./Data/train_data_with_fulladdress.csv')\n",
    "        return X"
   ]
  },
  {
   "cell_type": "code",
   "execution_count": 22,
   "metadata": {
    "colab": {},
    "colab_type": "code",
    "id": "eTRuN18vYWJ0"
   },
   "outputs": [],
   "source": [
    "drop_features_to_begin = ['titulo', 'descripcion','centroscomercialescercanos','escuelascercanas']\n",
    "\n",
    "features_to_impute = ['gimnasio', 'usosmultiples', 'piscina', 'tipodepropiedad','ciudad','provincia',\n",
    "                      'habitaciones','garages','banos','metroscubiertos','ano','metrostotales','antiguedad','cp','zona','asenta']\n",
    "\n",
    "drop_features_to_finish = ['latlng','direccion','idzona','full_address']\n",
    "\n",
    "before_split_pipeline = Pipeline( steps = [  ('feature_selector', DropFeatures(drop_features_to_begin)),\n",
    "                                             ('date_transformer',DateTransformer()),\n",
    "                                             ('latlng_generator',LatLngGenerator()),\n",
    "                                             ('get_full_address', FullAddressGenerator()),\n",
    "                                             ('impute_full_address_by_direccion', FullAddressImputer()),\n",
    "                                             ('get_cp_from_full_address', CpGenerator()),\n",
    "                                             ('impute_cp_from_idzona_ciudad_provincia',CpImputer()),\n",
    "                                             ('get_zona_asenta_from_cp',ZonaAndAsentaGenerator()),\n",
    "                                             ('drop', DropFeatures(drop_features_to_finish))\n",
    "                                           ] )\n",
    "\n",
    "after_split_pipeline = Pipeline( steps =   [ ('category_encoder',CategoryEncoder()),\n",
    "                                             ('missing_values_imputer',MissingValuesImputer(features_to_impute)),\n",
    "                                           ] )"
   ]
  },
  {
   "cell_type": "code",
   "execution_count": 36,
   "metadata": {
    "colab": {},
    "colab_type": "code",
    "id": "AK_svdKYYWJ3"
   },
   "outputs": [
    {
     "name": "stdout",
     "output_type": "stream",
     "text": [
      "ZonaAndAsentaGenerator imputed239891 zonas and asentas\n",
      "ZonaAndAsentaGenerator imputed239892 zonas and asentas\n",
      "ZonaAndAsentaGenerator imputed239893 zonas and asentas\n",
      "ZonaAndAsentaGenerator imputed239894 zonas and asentas\n",
      "ZonaAndAsentaGenerator imputed239895 zonas and asentas\n",
      "ZonaAndAsentaGenerator imputed239896 zonas and asentas\n",
      "ZonaAndAsentaGenerator imputed239897 zonas and asentas\n",
      "ZonaAndAsentaGenerator imputed239898 zonas and asentas\n",
      "Data backup saved at ./Data/train_data_with_fulladdress.csv\n",
      "CPU times: user 2h 15min 44s, sys: 1min 15s, total: 2h 16min 59s\n",
      "Wall time: 2h 14min 37s\n"
     ]
    }
   ],
   "source": [
    "%%time\n",
    "#df_preprocessed = before_split_pipeline.fit_transform(df)"
   ]
  },
  {
   "cell_type": "code",
   "execution_count": 333,
   "metadata": {
    "colab": {
     "base_uri": "https://localhost:8080/",
     "height": 623
    },
    "colab_type": "code",
    "id": "wrOJOH-IWio-",
    "outputId": "97c6b4fd-337d-48a2-a7e7-1757e1667763"
   },
   "outputs": [
    {
     "data": {
      "text/html": [
       "<div>\n",
       "<style scoped>\n",
       "    .dataframe tbody tr th:only-of-type {\n",
       "        vertical-align: middle;\n",
       "    }\n",
       "\n",
       "    .dataframe tbody tr th {\n",
       "        vertical-align: top;\n",
       "    }\n",
       "\n",
       "    .dataframe thead th {\n",
       "        text-align: right;\n",
       "    }\n",
       "</style>\n",
       "<table border=\"1\" class=\"dataframe\">\n",
       "  <thead>\n",
       "    <tr style=\"text-align: right;\">\n",
       "      <th></th>\n",
       "      <th>tipodepropiedad</th>\n",
       "      <th>ciudad</th>\n",
       "      <th>provincia</th>\n",
       "      <th>antiguedad</th>\n",
       "      <th>habitaciones</th>\n",
       "      <th>garages</th>\n",
       "      <th>banos</th>\n",
       "      <th>metroscubiertos</th>\n",
       "      <th>metrostotales</th>\n",
       "      <th>gimnasio</th>\n",
       "      <th>usosmultiples</th>\n",
       "      <th>piscina</th>\n",
       "      <th>precio</th>\n",
       "      <th>ano</th>\n",
       "      <th>cp</th>\n",
       "      <th>zona</th>\n",
       "      <th>asenta</th>\n",
       "    </tr>\n",
       "    <tr>\n",
       "      <th>id</th>\n",
       "      <th></th>\n",
       "      <th></th>\n",
       "      <th></th>\n",
       "      <th></th>\n",
       "      <th></th>\n",
       "      <th></th>\n",
       "      <th></th>\n",
       "      <th></th>\n",
       "      <th></th>\n",
       "      <th></th>\n",
       "      <th></th>\n",
       "      <th></th>\n",
       "      <th></th>\n",
       "      <th></th>\n",
       "      <th></th>\n",
       "      <th></th>\n",
       "      <th></th>\n",
       "    </tr>\n",
       "  </thead>\n",
       "  <tbody>\n",
       "    <tr>\n",
       "      <th>254099</th>\n",
       "      <td>Apartamento</td>\n",
       "      <td>Benito Juárez</td>\n",
       "      <td>Distrito Federal</td>\n",
       "      <td>NaN</td>\n",
       "      <td>2.0</td>\n",
       "      <td>1.0</td>\n",
       "      <td>2.0</td>\n",
       "      <td>80.0</td>\n",
       "      <td>80.0</td>\n",
       "      <td>0.0</td>\n",
       "      <td>0.0</td>\n",
       "      <td>0.0</td>\n",
       "      <td>2273000.0</td>\n",
       "      <td>2015</td>\n",
       "      <td>03103</td>\n",
       "      <td>Urbano</td>\n",
       "      <td>Colonia</td>\n",
       "    </tr>\n",
       "    <tr>\n",
       "      <th>53461</th>\n",
       "      <td>Casa en condominio</td>\n",
       "      <td>La Magdalena Contreras</td>\n",
       "      <td>Distrito Federal</td>\n",
       "      <td>10.0</td>\n",
       "      <td>3.0</td>\n",
       "      <td>2.0</td>\n",
       "      <td>2.0</td>\n",
       "      <td>268.0</td>\n",
       "      <td>180.0</td>\n",
       "      <td>0.0</td>\n",
       "      <td>0.0</td>\n",
       "      <td>0.0</td>\n",
       "      <td>3600000.0</td>\n",
       "      <td>2013</td>\n",
       "      <td>10710</td>\n",
       "      <td>Urbano</td>\n",
       "      <td>Colonia</td>\n",
       "    </tr>\n",
       "    <tr>\n",
       "      <th>247984</th>\n",
       "      <td>Casa</td>\n",
       "      <td>Tonalá</td>\n",
       "      <td>Jalisco</td>\n",
       "      <td>5.0</td>\n",
       "      <td>3.0</td>\n",
       "      <td>2.0</td>\n",
       "      <td>2.0</td>\n",
       "      <td>144.0</td>\n",
       "      <td>166.0</td>\n",
       "      <td>0.0</td>\n",
       "      <td>0.0</td>\n",
       "      <td>0.0</td>\n",
       "      <td>1200000.0</td>\n",
       "      <td>2015</td>\n",
       "      <td>45410</td>\n",
       "      <td>Urbano</td>\n",
       "      <td>Fraccionamiento</td>\n",
       "    </tr>\n",
       "    <tr>\n",
       "      <th>209067</th>\n",
       "      <td>Casa</td>\n",
       "      <td>Zinacantepec</td>\n",
       "      <td>Edo. de México</td>\n",
       "      <td>1.0</td>\n",
       "      <td>2.0</td>\n",
       "      <td>1.0</td>\n",
       "      <td>1.0</td>\n",
       "      <td>63.0</td>\n",
       "      <td>67.0</td>\n",
       "      <td>0.0</td>\n",
       "      <td>0.0</td>\n",
       "      <td>0.0</td>\n",
       "      <td>650000.0</td>\n",
       "      <td>2012</td>\n",
       "      <td>50100</td>\n",
       "      <td>Urbano</td>\n",
       "      <td>Colonia</td>\n",
       "    </tr>\n",
       "    <tr>\n",
       "      <th>185997</th>\n",
       "      <td>Apartamento</td>\n",
       "      <td>Zapopan</td>\n",
       "      <td>Jalisco</td>\n",
       "      <td>10.0</td>\n",
       "      <td>2.0</td>\n",
       "      <td>1.0</td>\n",
       "      <td>1.0</td>\n",
       "      <td>95.0</td>\n",
       "      <td>95.0</td>\n",
       "      <td>0.0</td>\n",
       "      <td>0.0</td>\n",
       "      <td>0.0</td>\n",
       "      <td>1150000.0</td>\n",
       "      <td>2016</td>\n",
       "      <td>45079</td>\n",
       "      <td>Urbano</td>\n",
       "      <td>Colonia</td>\n",
       "    </tr>\n",
       "    <tr>\n",
       "      <th>...</th>\n",
       "      <td>...</td>\n",
       "      <td>...</td>\n",
       "      <td>...</td>\n",
       "      <td>...</td>\n",
       "      <td>...</td>\n",
       "      <td>...</td>\n",
       "      <td>...</td>\n",
       "      <td>...</td>\n",
       "      <td>...</td>\n",
       "      <td>...</td>\n",
       "      <td>...</td>\n",
       "      <td>...</td>\n",
       "      <td>...</td>\n",
       "      <td>...</td>\n",
       "      <td>...</td>\n",
       "      <td>...</td>\n",
       "      <td>...</td>\n",
       "    </tr>\n",
       "    <tr>\n",
       "      <th>119879</th>\n",
       "      <td>Casa</td>\n",
       "      <td>Zinacantepec</td>\n",
       "      <td>Edo. de México</td>\n",
       "      <td>0.0</td>\n",
       "      <td>2.0</td>\n",
       "      <td>2.0</td>\n",
       "      <td>1.0</td>\n",
       "      <td>67.0</td>\n",
       "      <td>NaN</td>\n",
       "      <td>0.0</td>\n",
       "      <td>0.0</td>\n",
       "      <td>0.0</td>\n",
       "      <td>650000.0</td>\n",
       "      <td>2015</td>\n",
       "      <td>51355</td>\n",
       "      <td>Rural</td>\n",
       "      <td>Colonia</td>\n",
       "    </tr>\n",
       "    <tr>\n",
       "      <th>259178</th>\n",
       "      <td>Casa</td>\n",
       "      <td>Toluca</td>\n",
       "      <td>Edo. de México</td>\n",
       "      <td>0.0</td>\n",
       "      <td>3.0</td>\n",
       "      <td>3.0</td>\n",
       "      <td>3.0</td>\n",
       "      <td>200.0</td>\n",
       "      <td>250.0</td>\n",
       "      <td>0.0</td>\n",
       "      <td>0.0</td>\n",
       "      <td>0.0</td>\n",
       "      <td>1940000.0</td>\n",
       "      <td>2014</td>\n",
       "      <td>50100</td>\n",
       "      <td>Urbano</td>\n",
       "      <td>Colonia</td>\n",
       "    </tr>\n",
       "    <tr>\n",
       "      <th>131932</th>\n",
       "      <td>Apartamento</td>\n",
       "      <td>Benito Juárez</td>\n",
       "      <td>Distrito Federal</td>\n",
       "      <td>20.0</td>\n",
       "      <td>2.0</td>\n",
       "      <td>1.0</td>\n",
       "      <td>2.0</td>\n",
       "      <td>138.0</td>\n",
       "      <td>138.0</td>\n",
       "      <td>0.0</td>\n",
       "      <td>0.0</td>\n",
       "      <td>0.0</td>\n",
       "      <td>3400000.0</td>\n",
       "      <td>2015</td>\n",
       "      <td>03100</td>\n",
       "      <td>Urbano</td>\n",
       "      <td>Colonia</td>\n",
       "    </tr>\n",
       "    <tr>\n",
       "      <th>146867</th>\n",
       "      <td>Casa</td>\n",
       "      <td>Iztapalapa</td>\n",
       "      <td>Distrito Federal</td>\n",
       "      <td>20.0</td>\n",
       "      <td>4.0</td>\n",
       "      <td>0.0</td>\n",
       "      <td>4.0</td>\n",
       "      <td>235.0</td>\n",
       "      <td>137.0</td>\n",
       "      <td>1.0</td>\n",
       "      <td>0.0</td>\n",
       "      <td>0.0</td>\n",
       "      <td>2890000.0</td>\n",
       "      <td>2014</td>\n",
       "      <td>08500</td>\n",
       "      <td>Urbano</td>\n",
       "      <td>Colonia</td>\n",
       "    </tr>\n",
       "    <tr>\n",
       "      <th>121958</th>\n",
       "      <td>Apartamento</td>\n",
       "      <td>Cuajimalpa de Morelos</td>\n",
       "      <td>Distrito Federal</td>\n",
       "      <td>1.0</td>\n",
       "      <td>3.0</td>\n",
       "      <td>2.0</td>\n",
       "      <td>2.0</td>\n",
       "      <td>149.0</td>\n",
       "      <td>NaN</td>\n",
       "      <td>0.0</td>\n",
       "      <td>0.0</td>\n",
       "      <td>0.0</td>\n",
       "      <td>3650000.0</td>\n",
       "      <td>2015</td>\n",
       "      <td>05129</td>\n",
       "      <td>Urbano</td>\n",
       "      <td>Colonia</td>\n",
       "    </tr>\n",
       "  </tbody>\n",
       "</table>\n",
       "<p>240000 rows × 17 columns</p>\n",
       "</div>"
      ],
      "text/plain": [
       "           tipodepropiedad                  ciudad         provincia  \\\n",
       "id                                                                     \n",
       "254099         Apartamento           Benito Juárez  Distrito Federal   \n",
       "53461   Casa en condominio  La Magdalena Contreras  Distrito Federal   \n",
       "247984                Casa                  Tonalá           Jalisco   \n",
       "209067                Casa            Zinacantepec    Edo. de México   \n",
       "185997         Apartamento                 Zapopan           Jalisco   \n",
       "...                    ...                     ...               ...   \n",
       "119879                Casa            Zinacantepec    Edo. de México   \n",
       "259178                Casa                  Toluca    Edo. de México   \n",
       "131932         Apartamento           Benito Juárez  Distrito Federal   \n",
       "146867                Casa              Iztapalapa  Distrito Federal   \n",
       "121958         Apartamento   Cuajimalpa de Morelos  Distrito Federal   \n",
       "\n",
       "        antiguedad  habitaciones  garages  banos  metroscubiertos  \\\n",
       "id                                                                  \n",
       "254099         NaN           2.0      1.0    2.0             80.0   \n",
       "53461         10.0           3.0      2.0    2.0            268.0   \n",
       "247984         5.0           3.0      2.0    2.0            144.0   \n",
       "209067         1.0           2.0      1.0    1.0             63.0   \n",
       "185997        10.0           2.0      1.0    1.0             95.0   \n",
       "...            ...           ...      ...    ...              ...   \n",
       "119879         0.0           2.0      2.0    1.0             67.0   \n",
       "259178         0.0           3.0      3.0    3.0            200.0   \n",
       "131932        20.0           2.0      1.0    2.0            138.0   \n",
       "146867        20.0           4.0      0.0    4.0            235.0   \n",
       "121958         1.0           3.0      2.0    2.0            149.0   \n",
       "\n",
       "        metrostotales  gimnasio  usosmultiples  piscina     precio   ano  \\\n",
       "id                                                                         \n",
       "254099           80.0       0.0            0.0      0.0  2273000.0  2015   \n",
       "53461           180.0       0.0            0.0      0.0  3600000.0  2013   \n",
       "247984          166.0       0.0            0.0      0.0  1200000.0  2015   \n",
       "209067           67.0       0.0            0.0      0.0   650000.0  2012   \n",
       "185997           95.0       0.0            0.0      0.0  1150000.0  2016   \n",
       "...               ...       ...            ...      ...        ...   ...   \n",
       "119879            NaN       0.0            0.0      0.0   650000.0  2015   \n",
       "259178          250.0       0.0            0.0      0.0  1940000.0  2014   \n",
       "131932          138.0       0.0            0.0      0.0  3400000.0  2015   \n",
       "146867          137.0       1.0            0.0      0.0  2890000.0  2014   \n",
       "121958            NaN       0.0            0.0      0.0  3650000.0  2015   \n",
       "\n",
       "           cp    zona           asenta  \n",
       "id                                      \n",
       "254099  03103  Urbano          Colonia  \n",
       "53461   10710  Urbano          Colonia  \n",
       "247984  45410  Urbano  Fraccionamiento  \n",
       "209067  50100  Urbano          Colonia  \n",
       "185997  45079  Urbano          Colonia  \n",
       "...       ...     ...              ...  \n",
       "119879  51355   Rural          Colonia  \n",
       "259178  50100  Urbano          Colonia  \n",
       "131932  03100  Urbano          Colonia  \n",
       "146867  08500  Urbano          Colonia  \n",
       "121958  05129  Urbano          Colonia  \n",
       "\n",
       "[240000 rows x 17 columns]"
      ]
     },
     "execution_count": 333,
     "metadata": {},
     "output_type": "execute_result"
    }
   ],
   "source": [
    "#df_preprocessed"
   ]
  },
  {
   "cell_type": "code",
   "execution_count": 23,
   "metadata": {},
   "outputs": [],
   "source": [
    "df_preprocessed = df.copy()"
   ]
  },
  {
   "cell_type": "code",
   "execution_count": 24,
   "metadata": {
    "colab": {},
    "colab_type": "code",
    "id": "cXh8VQ5RYWJ6"
   },
   "outputs": [],
   "source": [
    "#Split en train y test\n",
    "train_df, test_df = train_test_split(df_preprocessed, test_size=0.1)"
   ]
  },
  {
   "cell_type": "code",
   "execution_count": 25,
   "metadata": {},
   "outputs": [
    {
     "name": "stderr",
     "output_type": "stream",
     "text": [
      "/home/federicobaiocco/anaconda3/lib/python3.7/site-packages/ipykernel_launcher.py:13: SettingWithCopyWarning: \n",
      "A value is trying to be set on a copy of a slice from a DataFrame.\n",
      "Try using .loc[row_indexer,col_indexer] = value instead\n",
      "\n",
      "See the caveats in the documentation: https://pandas.pydata.org/pandas-docs/stable/user_guide/indexing.html#returning-a-view-versus-a-copy\n",
      "  del sys.path[0]\n",
      "/home/federicobaiocco/anaconda3/lib/python3.7/site-packages/ipykernel_launcher.py:14: SettingWithCopyWarning: \n",
      "A value is trying to be set on a copy of a slice from a DataFrame.\n",
      "Try using .loc[row_indexer,col_indexer] = value instead\n",
      "\n",
      "See the caveats in the documentation: https://pandas.pydata.org/pandas-docs/stable/user_guide/indexing.html#returning-a-view-versus-a-copy\n",
      "  \n",
      "/home/federicobaiocco/anaconda3/lib/python3.7/site-packages/ipykernel_launcher.py:15: SettingWithCopyWarning: \n",
      "A value is trying to be set on a copy of a slice from a DataFrame.\n",
      "Try using .loc[row_indexer,col_indexer] = value instead\n",
      "\n",
      "See the caveats in the documentation: https://pandas.pydata.org/pandas-docs/stable/user_guide/indexing.html#returning-a-view-versus-a-copy\n",
      "  from ipykernel import kernelapp as app\n",
      "/home/federicobaiocco/anaconda3/lib/python3.7/site-packages/ipykernel_launcher.py:16: SettingWithCopyWarning: \n",
      "A value is trying to be set on a copy of a slice from a DataFrame.\n",
      "Try using .loc[row_indexer,col_indexer] = value instead\n",
      "\n",
      "See the caveats in the documentation: https://pandas.pydata.org/pandas-docs/stable/user_guide/indexing.html#returning-a-view-versus-a-copy\n",
      "  app.launch_new_instance()\n",
      "/home/federicobaiocco/anaconda3/lib/python3.7/site-packages/ipykernel_launcher.py:17: SettingWithCopyWarning: \n",
      "A value is trying to be set on a copy of a slice from a DataFrame.\n",
      "Try using .loc[row_indexer,col_indexer] = value instead\n",
      "\n",
      "See the caveats in the documentation: https://pandas.pydata.org/pandas-docs/stable/user_guide/indexing.html#returning-a-view-versus-a-copy\n",
      "/home/federicobaiocco/anaconda3/lib/python3.7/site-packages/sklearn/base.py:197: FutureWarning: From version 0.24, get_params will raise an AttributeError if a parameter cannot be retrieved as an instance attribute. Previously it would return None.\n",
      "  FutureWarning)\n"
     ]
    },
    {
     "data": {
      "text/plain": [
       "Pipeline(memory=None,\n",
       "         steps=[('category_encoder', CategoryEncoder()),\n",
       "                ('missing_values_imputer',\n",
       "                 MissingValuesImputer(features_to_impute=None))],\n",
       "         verbose=False)"
      ]
     },
     "execution_count": 25,
     "metadata": {},
     "output_type": "execute_result"
    }
   ],
   "source": [
    "after_split_pipeline.fit(train_df)"
   ]
  },
  {
   "cell_type": "code",
   "execution_count": 26,
   "metadata": {
    "colab": {},
    "colab_type": "code",
    "id": "hMAinmu7YWJ-"
   },
   "outputs": [
    {
     "name": "stderr",
     "output_type": "stream",
     "text": [
      "/home/federicobaiocco/anaconda3/lib/python3.7/site-packages/ipykernel_launcher.py:13: SettingWithCopyWarning: \n",
      "A value is trying to be set on a copy of a slice from a DataFrame.\n",
      "Try using .loc[row_indexer,col_indexer] = value instead\n",
      "\n",
      "See the caveats in the documentation: https://pandas.pydata.org/pandas-docs/stable/user_guide/indexing.html#returning-a-view-versus-a-copy\n",
      "  del sys.path[0]\n",
      "/home/federicobaiocco/anaconda3/lib/python3.7/site-packages/ipykernel_launcher.py:14: SettingWithCopyWarning: \n",
      "A value is trying to be set on a copy of a slice from a DataFrame.\n",
      "Try using .loc[row_indexer,col_indexer] = value instead\n",
      "\n",
      "See the caveats in the documentation: https://pandas.pydata.org/pandas-docs/stable/user_guide/indexing.html#returning-a-view-versus-a-copy\n",
      "  \n",
      "/home/federicobaiocco/anaconda3/lib/python3.7/site-packages/ipykernel_launcher.py:15: SettingWithCopyWarning: \n",
      "A value is trying to be set on a copy of a slice from a DataFrame.\n",
      "Try using .loc[row_indexer,col_indexer] = value instead\n",
      "\n",
      "See the caveats in the documentation: https://pandas.pydata.org/pandas-docs/stable/user_guide/indexing.html#returning-a-view-versus-a-copy\n",
      "  from ipykernel import kernelapp as app\n",
      "/home/federicobaiocco/anaconda3/lib/python3.7/site-packages/ipykernel_launcher.py:16: SettingWithCopyWarning: \n",
      "A value is trying to be set on a copy of a slice from a DataFrame.\n",
      "Try using .loc[row_indexer,col_indexer] = value instead\n",
      "\n",
      "See the caveats in the documentation: https://pandas.pydata.org/pandas-docs/stable/user_guide/indexing.html#returning-a-view-versus-a-copy\n",
      "  app.launch_new_instance()\n",
      "/home/federicobaiocco/anaconda3/lib/python3.7/site-packages/ipykernel_launcher.py:17: SettingWithCopyWarning: \n",
      "A value is trying to be set on a copy of a slice from a DataFrame.\n",
      "Try using .loc[row_indexer,col_indexer] = value instead\n",
      "\n",
      "See the caveats in the documentation: https://pandas.pydata.org/pandas-docs/stable/user_guide/indexing.html#returning-a-view-versus-a-copy\n",
      "/home/federicobaiocco/anaconda3/lib/python3.7/site-packages/ipykernel_launcher.py:13: SettingWithCopyWarning: \n",
      "A value is trying to be set on a copy of a slice from a DataFrame.\n",
      "Try using .loc[row_indexer,col_indexer] = value instead\n",
      "\n",
      "See the caveats in the documentation: https://pandas.pydata.org/pandas-docs/stable/user_guide/indexing.html#returning-a-view-versus-a-copy\n",
      "  del sys.path[0]\n",
      "/home/federicobaiocco/anaconda3/lib/python3.7/site-packages/pandas/core/indexing.py:965: SettingWithCopyWarning: \n",
      "A value is trying to be set on a copy of a slice from a DataFrame.\n",
      "Try using .loc[row_indexer,col_indexer] = value instead\n",
      "\n",
      "See the caveats in the documentation: https://pandas.pydata.org/pandas-docs/stable/user_guide/indexing.html#returning-a-view-versus-a-copy\n",
      "  self.obj[item] = s\n",
      "/home/federicobaiocco/anaconda3/lib/python3.7/site-packages/ipykernel_launcher.py:14: SettingWithCopyWarning: \n",
      "A value is trying to be set on a copy of a slice from a DataFrame.\n",
      "Try using .loc[row_indexer,col_indexer] = value instead\n",
      "\n",
      "See the caveats in the documentation: https://pandas.pydata.org/pandas-docs/stable/user_guide/indexing.html#returning-a-view-versus-a-copy\n",
      "  \n",
      "/home/federicobaiocco/anaconda3/lib/python3.7/site-packages/ipykernel_launcher.py:15: SettingWithCopyWarning: \n",
      "A value is trying to be set on a copy of a slice from a DataFrame.\n",
      "Try using .loc[row_indexer,col_indexer] = value instead\n",
      "\n",
      "See the caveats in the documentation: https://pandas.pydata.org/pandas-docs/stable/user_guide/indexing.html#returning-a-view-versus-a-copy\n",
      "  from ipykernel import kernelapp as app\n",
      "/home/federicobaiocco/anaconda3/lib/python3.7/site-packages/ipykernel_launcher.py:16: SettingWithCopyWarning: \n",
      "A value is trying to be set on a copy of a slice from a DataFrame.\n",
      "Try using .loc[row_indexer,col_indexer] = value instead\n",
      "\n",
      "See the caveats in the documentation: https://pandas.pydata.org/pandas-docs/stable/user_guide/indexing.html#returning-a-view-versus-a-copy\n",
      "  app.launch_new_instance()\n",
      "/home/federicobaiocco/anaconda3/lib/python3.7/site-packages/ipykernel_launcher.py:17: SettingWithCopyWarning: \n",
      "A value is trying to be set on a copy of a slice from a DataFrame.\n",
      "Try using .loc[row_indexer,col_indexer] = value instead\n",
      "\n",
      "See the caveats in the documentation: https://pandas.pydata.org/pandas-docs/stable/user_guide/indexing.html#returning-a-view-versus-a-copy\n",
      "/home/federicobaiocco/anaconda3/lib/python3.7/site-packages/ipykernel_launcher.py:13: SettingWithCopyWarning: \n",
      "A value is trying to be set on a copy of a slice from a DataFrame.\n",
      "Try using .loc[row_indexer,col_indexer] = value instead\n",
      "\n",
      "See the caveats in the documentation: https://pandas.pydata.org/pandas-docs/stable/user_guide/indexing.html#returning-a-view-versus-a-copy\n",
      "  del sys.path[0]\n",
      "/home/federicobaiocco/anaconda3/lib/python3.7/site-packages/pandas/core/indexing.py:965: SettingWithCopyWarning: \n",
      "A value is trying to be set on a copy of a slice from a DataFrame.\n",
      "Try using .loc[row_indexer,col_indexer] = value instead\n",
      "\n",
      "See the caveats in the documentation: https://pandas.pydata.org/pandas-docs/stable/user_guide/indexing.html#returning-a-view-versus-a-copy\n",
      "  self.obj[item] = s\n"
     ]
    }
   ],
   "source": [
    "preproc_train_df = after_split_pipeline.transform(train_df)\n",
    "preproc_test_df = after_split_pipeline.transform(test_df)"
   ]
  },
  {
   "cell_type": "code",
   "execution_count": 27,
   "metadata": {
    "colab": {},
    "colab_type": "code",
    "id": "saM1Ob1HYWKB"
   },
   "outputs": [],
   "source": [
    "X_train = preproc_train_df.drop('precio',axis=1)\n",
    "X_test = preproc_test_df.drop('precio',axis=1)\n",
    "\n",
    "y_train = preproc_train_df['precio']\n",
    "y_test = preproc_test_df['precio']"
   ]
  },
  {
   "cell_type": "code",
   "execution_count": 386,
   "metadata": {},
   "outputs": [
    {
     "data": {
      "text/html": [
       "<div>\n",
       "<style scoped>\n",
       "    .dataframe tbody tr th:only-of-type {\n",
       "        vertical-align: middle;\n",
       "    }\n",
       "\n",
       "    .dataframe tbody tr th {\n",
       "        vertical-align: top;\n",
       "    }\n",
       "\n",
       "    .dataframe thead th {\n",
       "        text-align: right;\n",
       "    }\n",
       "</style>\n",
       "<table border=\"1\" class=\"dataframe\">\n",
       "  <thead>\n",
       "    <tr style=\"text-align: right;\">\n",
       "      <th></th>\n",
       "      <th>tipodepropiedad</th>\n",
       "      <th>ciudad</th>\n",
       "      <th>provincia</th>\n",
       "      <th>antiguedad</th>\n",
       "      <th>habitaciones</th>\n",
       "      <th>garages</th>\n",
       "      <th>banos</th>\n",
       "      <th>metroscubiertos</th>\n",
       "      <th>metrostotales</th>\n",
       "      <th>gimnasio</th>\n",
       "      <th>usosmultiples</th>\n",
       "      <th>piscina</th>\n",
       "      <th>ano</th>\n",
       "      <th>cp</th>\n",
       "      <th>zona</th>\n",
       "      <th>asenta</th>\n",
       "    </tr>\n",
       "    <tr>\n",
       "      <th>id</th>\n",
       "      <th></th>\n",
       "      <th></th>\n",
       "      <th></th>\n",
       "      <th></th>\n",
       "      <th></th>\n",
       "      <th></th>\n",
       "      <th></th>\n",
       "      <th></th>\n",
       "      <th></th>\n",
       "      <th></th>\n",
       "      <th></th>\n",
       "      <th></th>\n",
       "      <th></th>\n",
       "      <th></th>\n",
       "      <th></th>\n",
       "      <th></th>\n",
       "    </tr>\n",
       "  </thead>\n",
       "  <tbody>\n",
       "    <tr>\n",
       "      <th>259327</th>\n",
       "      <td>2.528136e+06</td>\n",
       "      <td>2.528136e+06</td>\n",
       "      <td>2.528136e+06</td>\n",
       "      <td>6.000000</td>\n",
       "      <td>3.000000</td>\n",
       "      <td>1.000000</td>\n",
       "      <td>2.000000</td>\n",
       "      <td>158.000000</td>\n",
       "      <td>374.000000</td>\n",
       "      <td>0.0</td>\n",
       "      <td>0.0</td>\n",
       "      <td>0.0</td>\n",
       "      <td>2012.0</td>\n",
       "      <td>53100.0</td>\n",
       "      <td>2.528136e+06</td>\n",
       "      <td>2.528136e+06</td>\n",
       "    </tr>\n",
       "    <tr>\n",
       "      <th>288516</th>\n",
       "      <td>2.528136e+06</td>\n",
       "      <td>2.528136e+06</td>\n",
       "      <td>2.528136e+06</td>\n",
       "      <td>0.000000</td>\n",
       "      <td>2.571881</td>\n",
       "      <td>0.000000</td>\n",
       "      <td>1.911815</td>\n",
       "      <td>153.528772</td>\n",
       "      <td>200.000000</td>\n",
       "      <td>0.0</td>\n",
       "      <td>0.0</td>\n",
       "      <td>1.0</td>\n",
       "      <td>2013.0</td>\n",
       "      <td>76100.0</td>\n",
       "      <td>2.528136e+06</td>\n",
       "      <td>2.528136e+06</td>\n",
       "    </tr>\n",
       "    <tr>\n",
       "      <th>169665</th>\n",
       "      <td>2.528136e+06</td>\n",
       "      <td>2.528136e+06</td>\n",
       "      <td>2.528136e+06</td>\n",
       "      <td>5.000000</td>\n",
       "      <td>3.580390</td>\n",
       "      <td>0.000000</td>\n",
       "      <td>3.000000</td>\n",
       "      <td>330.000000</td>\n",
       "      <td>297.404927</td>\n",
       "      <td>0.0</td>\n",
       "      <td>0.0</td>\n",
       "      <td>0.0</td>\n",
       "      <td>2015.0</td>\n",
       "      <td>91020.0</td>\n",
       "      <td>2.528136e+06</td>\n",
       "      <td>2.528136e+06</td>\n",
       "    </tr>\n",
       "    <tr>\n",
       "      <th>148936</th>\n",
       "      <td>2.528136e+06</td>\n",
       "      <td>2.528136e+06</td>\n",
       "      <td>2.528136e+06</td>\n",
       "      <td>9.747993</td>\n",
       "      <td>2.000000</td>\n",
       "      <td>1.000000</td>\n",
       "      <td>1.000000</td>\n",
       "      <td>60.000000</td>\n",
       "      <td>78.563817</td>\n",
       "      <td>0.0</td>\n",
       "      <td>0.0</td>\n",
       "      <td>0.0</td>\n",
       "      <td>2016.0</td>\n",
       "      <td>14426.0</td>\n",
       "      <td>2.528136e+06</td>\n",
       "      <td>2.528136e+06</td>\n",
       "    </tr>\n",
       "    <tr>\n",
       "      <th>59299</th>\n",
       "      <td>2.528136e+06</td>\n",
       "      <td>2.528136e+06</td>\n",
       "      <td>2.528136e+06</td>\n",
       "      <td>0.000000</td>\n",
       "      <td>3.000000</td>\n",
       "      <td>1.547884</td>\n",
       "      <td>2.000000</td>\n",
       "      <td>160.000000</td>\n",
       "      <td>90.000000</td>\n",
       "      <td>0.0</td>\n",
       "      <td>0.0</td>\n",
       "      <td>0.0</td>\n",
       "      <td>2016.0</td>\n",
       "      <td>76128.0</td>\n",
       "      <td>2.528136e+06</td>\n",
       "      <td>2.528136e+06</td>\n",
       "    </tr>\n",
       "    <tr>\n",
       "      <th>...</th>\n",
       "      <td>...</td>\n",
       "      <td>...</td>\n",
       "      <td>...</td>\n",
       "      <td>...</td>\n",
       "      <td>...</td>\n",
       "      <td>...</td>\n",
       "      <td>...</td>\n",
       "      <td>...</td>\n",
       "      <td>...</td>\n",
       "      <td>...</td>\n",
       "      <td>...</td>\n",
       "      <td>...</td>\n",
       "      <td>...</td>\n",
       "      <td>...</td>\n",
       "      <td>...</td>\n",
       "      <td>...</td>\n",
       "    </tr>\n",
       "    <tr>\n",
       "      <th>282940</th>\n",
       "      <td>2.528136e+06</td>\n",
       "      <td>2.528136e+06</td>\n",
       "      <td>2.528136e+06</td>\n",
       "      <td>0.000000</td>\n",
       "      <td>3.000000</td>\n",
       "      <td>2.000000</td>\n",
       "      <td>2.000000</td>\n",
       "      <td>163.000000</td>\n",
       "      <td>300.000000</td>\n",
       "      <td>0.0</td>\n",
       "      <td>0.0</td>\n",
       "      <td>0.0</td>\n",
       "      <td>2015.0</td>\n",
       "      <td>34045.0</td>\n",
       "      <td>2.528136e+06</td>\n",
       "      <td>2.528136e+06</td>\n",
       "    </tr>\n",
       "    <tr>\n",
       "      <th>57173</th>\n",
       "      <td>2.528136e+06</td>\n",
       "      <td>2.528136e+06</td>\n",
       "      <td>2.528136e+06</td>\n",
       "      <td>5.000000</td>\n",
       "      <td>3.000000</td>\n",
       "      <td>2.000000</td>\n",
       "      <td>2.000000</td>\n",
       "      <td>180.000000</td>\n",
       "      <td>200.000000</td>\n",
       "      <td>0.0</td>\n",
       "      <td>0.0</td>\n",
       "      <td>0.0</td>\n",
       "      <td>2012.0</td>\n",
       "      <td>72520.0</td>\n",
       "      <td>2.528136e+06</td>\n",
       "      <td>2.528136e+06</td>\n",
       "    </tr>\n",
       "    <tr>\n",
       "      <th>245495</th>\n",
       "      <td>2.528136e+06</td>\n",
       "      <td>2.528136e+06</td>\n",
       "      <td>2.528136e+06</td>\n",
       "      <td>4.000000</td>\n",
       "      <td>3.000000</td>\n",
       "      <td>1.000000</td>\n",
       "      <td>2.000000</td>\n",
       "      <td>120.000000</td>\n",
       "      <td>144.000000</td>\n",
       "      <td>0.0</td>\n",
       "      <td>0.0</td>\n",
       "      <td>0.0</td>\n",
       "      <td>2014.0</td>\n",
       "      <td>29050.0</td>\n",
       "      <td>2.528136e+06</td>\n",
       "      <td>2.528136e+06</td>\n",
       "    </tr>\n",
       "    <tr>\n",
       "      <th>207347</th>\n",
       "      <td>2.528136e+06</td>\n",
       "      <td>2.528136e+06</td>\n",
       "      <td>2.528136e+06</td>\n",
       "      <td>0.000000</td>\n",
       "      <td>4.000000</td>\n",
       "      <td>3.000000</td>\n",
       "      <td>3.321797</td>\n",
       "      <td>255.000000</td>\n",
       "      <td>300.000000</td>\n",
       "      <td>0.0</td>\n",
       "      <td>0.0</td>\n",
       "      <td>1.0</td>\n",
       "      <td>2015.0</td>\n",
       "      <td>97117.0</td>\n",
       "      <td>2.528136e+06</td>\n",
       "      <td>2.528136e+06</td>\n",
       "    </tr>\n",
       "    <tr>\n",
       "      <th>160559</th>\n",
       "      <td>2.528136e+06</td>\n",
       "      <td>2.528136e+06</td>\n",
       "      <td>2.528136e+06</td>\n",
       "      <td>12.682169</td>\n",
       "      <td>3.000000</td>\n",
       "      <td>1.941633</td>\n",
       "      <td>3.065986</td>\n",
       "      <td>350.000000</td>\n",
       "      <td>350.000000</td>\n",
       "      <td>0.0</td>\n",
       "      <td>0.0</td>\n",
       "      <td>0.0</td>\n",
       "      <td>2015.0</td>\n",
       "      <td>3100.0</td>\n",
       "      <td>2.528136e+06</td>\n",
       "      <td>2.528136e+06</td>\n",
       "    </tr>\n",
       "  </tbody>\n",
       "</table>\n",
       "<p>216000 rows × 16 columns</p>\n",
       "</div>"
      ],
      "text/plain": [
       "        tipodepropiedad        ciudad     provincia  antiguedad  habitaciones  \\\n",
       "id                                                                              \n",
       "259327     2.528136e+06  2.528136e+06  2.528136e+06    6.000000      3.000000   \n",
       "288516     2.528136e+06  2.528136e+06  2.528136e+06    0.000000      2.571881   \n",
       "169665     2.528136e+06  2.528136e+06  2.528136e+06    5.000000      3.580390   \n",
       "148936     2.528136e+06  2.528136e+06  2.528136e+06    9.747993      2.000000   \n",
       "59299      2.528136e+06  2.528136e+06  2.528136e+06    0.000000      3.000000   \n",
       "...                 ...           ...           ...         ...           ...   \n",
       "282940     2.528136e+06  2.528136e+06  2.528136e+06    0.000000      3.000000   \n",
       "57173      2.528136e+06  2.528136e+06  2.528136e+06    5.000000      3.000000   \n",
       "245495     2.528136e+06  2.528136e+06  2.528136e+06    4.000000      3.000000   \n",
       "207347     2.528136e+06  2.528136e+06  2.528136e+06    0.000000      4.000000   \n",
       "160559     2.528136e+06  2.528136e+06  2.528136e+06   12.682169      3.000000   \n",
       "\n",
       "         garages     banos  metroscubiertos  metrostotales  gimnasio  \\\n",
       "id                                                                     \n",
       "259327  1.000000  2.000000       158.000000     374.000000       0.0   \n",
       "288516  0.000000  1.911815       153.528772     200.000000       0.0   \n",
       "169665  0.000000  3.000000       330.000000     297.404927       0.0   \n",
       "148936  1.000000  1.000000        60.000000      78.563817       0.0   \n",
       "59299   1.547884  2.000000       160.000000      90.000000       0.0   \n",
       "...          ...       ...              ...            ...       ...   \n",
       "282940  2.000000  2.000000       163.000000     300.000000       0.0   \n",
       "57173   2.000000  2.000000       180.000000     200.000000       0.0   \n",
       "245495  1.000000  2.000000       120.000000     144.000000       0.0   \n",
       "207347  3.000000  3.321797       255.000000     300.000000       0.0   \n",
       "160559  1.941633  3.065986       350.000000     350.000000       0.0   \n",
       "\n",
       "        usosmultiples  piscina     ano       cp          zona        asenta  \n",
       "id                                                                           \n",
       "259327            0.0      0.0  2012.0  53100.0  2.528136e+06  2.528136e+06  \n",
       "288516            0.0      1.0  2013.0  76100.0  2.528136e+06  2.528136e+06  \n",
       "169665            0.0      0.0  2015.0  91020.0  2.528136e+06  2.528136e+06  \n",
       "148936            0.0      0.0  2016.0  14426.0  2.528136e+06  2.528136e+06  \n",
       "59299             0.0      0.0  2016.0  76128.0  2.528136e+06  2.528136e+06  \n",
       "...               ...      ...     ...      ...           ...           ...  \n",
       "282940            0.0      0.0  2015.0  34045.0  2.528136e+06  2.528136e+06  \n",
       "57173             0.0      0.0  2012.0  72520.0  2.528136e+06  2.528136e+06  \n",
       "245495            0.0      0.0  2014.0  29050.0  2.528136e+06  2.528136e+06  \n",
       "207347            0.0      1.0  2015.0  97117.0  2.528136e+06  2.528136e+06  \n",
       "160559            0.0      0.0  2015.0   3100.0  2.528136e+06  2.528136e+06  \n",
       "\n",
       "[216000 rows x 16 columns]"
      ]
     },
     "execution_count": 386,
     "metadata": {},
     "output_type": "execute_result"
    }
   ],
   "source": [
    "X_train"
   ]
  },
  {
   "cell_type": "markdown",
   "metadata": {
    "colab_type": "text",
    "id": "9SEa6KBxYWKG"
   },
   "source": [
    "# Modelos"
   ]
  },
  {
   "cell_type": "markdown",
   "metadata": {
    "colab_type": "text",
    "id": "4dNTfk1vYWKH"
   },
   "source": [
    "## XGB "
   ]
  },
  {
   "cell_type": "code",
   "execution_count": 57,
   "metadata": {},
   "outputs": [],
   "source": [
    "xgbr = xgb.XGBRegressor(learning_rate=0.03,max_depth=8, n_estimators=1000, n_jobs=-1, objective ='reg:squarederror')\n",
    "xgbr.fit(X_train,y_train)\n",
    "xgbr_test_pred = xgbr.predict(X_test)\n",
    "xgbr_train_pred = xgbr.predict(X_train)"
   ]
  },
  {
   "cell_type": "code",
   "execution_count": 58,
   "metadata": {},
   "outputs": [
    {
     "data": {
      "text/plain": [
       "611006.1909361979"
      ]
     },
     "execution_count": 58,
     "metadata": {},
     "output_type": "execute_result"
    }
   ],
   "source": [
    "mean_absolute_error(y_test,xgbr_test_pred)"
   ]
  },
  {
   "cell_type": "code",
   "execution_count": 59,
   "metadata": {},
   "outputs": [
    {
     "data": {
      "text/plain": [
       "528701.018723452"
      ]
     },
     "execution_count": 59,
     "metadata": {},
     "output_type": "execute_result"
    }
   ],
   "source": [
    "mean_absolute_error(y_train,xgbr_train_pred)"
   ]
  },
  {
   "cell_type": "markdown",
   "metadata": {},
   "source": [
    "# Extra trees regressor"
   ]
  },
  {
   "cell_type": "code",
   "execution_count": 28,
   "metadata": {},
   "outputs": [],
   "source": [
    "from sklearn.tree import ExtraTreeRegressor\n",
    "\n",
    "etr = ExtraTreeRegressor(max_depth=1200, min_samples_split=51).fit(X_train, y_train)"
   ]
  },
  {
   "cell_type": "code",
   "execution_count": 54,
   "metadata": {},
   "outputs": [],
   "source": [
    "etr_test_pred = etr.predict(X_test)\n",
    "etr_train_pred = etr.predict(X_train)"
   ]
  },
  {
   "cell_type": "code",
   "execution_count": 55,
   "metadata": {},
   "outputs": [
    {
     "data": {
      "text/plain": [
       "792993.8495381813"
      ]
     },
     "execution_count": 55,
     "metadata": {},
     "output_type": "execute_result"
    }
   ],
   "source": [
    "mean_absolute_error(y_test,etr_test_pred)"
   ]
  },
  {
   "cell_type": "code",
   "execution_count": 56,
   "metadata": {},
   "outputs": [
    {
     "data": {
      "text/plain": [
       "701017.4850051504"
      ]
     },
     "execution_count": 56,
     "metadata": {},
     "output_type": "execute_result"
    }
   ],
   "source": [
    "mean_absolute_error(y_train,etr_train_pred)"
   ]
  },
  {
   "cell_type": "markdown",
   "metadata": {},
   "source": [
    "# GradientBoostingRegressor"
   ]
  },
  {
   "cell_type": "code",
   "execution_count": 33,
   "metadata": {},
   "outputs": [],
   "source": [
    "from sklearn.ensemble import GradientBoostingRegressor"
   ]
  },
  {
   "cell_type": "code",
   "execution_count": 60,
   "metadata": {},
   "outputs": [],
   "source": [
    "gbr = GradientBoostingRegressor(max_depth=12, n_estimators=500)"
   ]
  },
  {
   "cell_type": "code",
   "execution_count": 61,
   "metadata": {},
   "outputs": [
    {
     "data": {
      "text/plain": [
       "GradientBoostingRegressor(alpha=0.9, ccp_alpha=0.0, criterion='friedman_mse',\n",
       "                          init=None, learning_rate=0.1, loss='ls', max_depth=12,\n",
       "                          max_features=None, max_leaf_nodes=None,\n",
       "                          min_impurity_decrease=0.0, min_impurity_split=None,\n",
       "                          min_samples_leaf=1, min_samples_split=2,\n",
       "                          min_weight_fraction_leaf=0.0, n_estimators=500,\n",
       "                          n_iter_no_change=None, presort='deprecated',\n",
       "                          random_state=None, subsample=1.0, tol=0.0001,\n",
       "                          validation_fraction=0.1, verbose=0, warm_start=False)"
      ]
     },
     "execution_count": 61,
     "metadata": {},
     "output_type": "execute_result"
    }
   ],
   "source": [
    "gbr.fit(X_train, y_train)"
   ]
  },
  {
   "cell_type": "code",
   "execution_count": 62,
   "metadata": {},
   "outputs": [],
   "source": [
    "gbr_test_pred = gbr.predict(X_test)\n",
    "gbr_train_pred = gbr.predict(X_train)"
   ]
  },
  {
   "cell_type": "code",
   "execution_count": 63,
   "metadata": {},
   "outputs": [
    {
     "data": {
      "text/plain": [
       "597575.1309355508"
      ]
     },
     "execution_count": 63,
     "metadata": {},
     "output_type": "execute_result"
    }
   ],
   "source": [
    "mean_absolute_error(y_test,gbr_test_pred)"
   ]
  },
  {
   "cell_type": "code",
   "execution_count": 64,
   "metadata": {},
   "outputs": [
    {
     "data": {
      "text/plain": [
       "261586.88867745418"
      ]
     },
     "execution_count": 64,
     "metadata": {},
     "output_type": "execute_result"
    }
   ],
   "source": [
    "mean_absolute_error(y_train,gbr_train_pred)"
   ]
  },
  {
   "cell_type": "markdown",
   "metadata": {},
   "source": [
    "# RandomForestRegressor"
   ]
  },
  {
   "cell_type": "code",
   "execution_count": 39,
   "metadata": {},
   "outputs": [],
   "source": [
    "from sklearn.ensemble import RandomForestRegressor"
   ]
  },
  {
   "cell_type": "code",
   "execution_count": 40,
   "metadata": {},
   "outputs": [],
   "source": [
    "random_forest = RandomForestRegressor(bootstrap=True, ccp_alpha=0.0, criterion='mse',\n",
    "                      max_depth=35, max_features='auto', max_leaf_nodes=None,\n",
    "                      max_samples=None, min_impurity_decrease=0.0,\n",
    "                      min_impurity_split=None, min_samples_leaf=20,\n",
    "                      min_samples_split=20, min_weight_fraction_leaf=0.0,\n",
    "                      n_estimators=1000, n_jobs=-1, oob_score=False,\n",
    "                      random_state=None, verbose=0, warm_start=False)"
   ]
  },
  {
   "cell_type": "code",
   "execution_count": 41,
   "metadata": {},
   "outputs": [
    {
     "data": {
      "text/plain": [
       "RandomForestRegressor(bootstrap=True, ccp_alpha=0.0, criterion='mse',\n",
       "                      max_depth=35, max_features='auto', max_leaf_nodes=None,\n",
       "                      max_samples=None, min_impurity_decrease=0.0,\n",
       "                      min_impurity_split=None, min_samples_leaf=20,\n",
       "                      min_samples_split=20, min_weight_fraction_leaf=0.0,\n",
       "                      n_estimators=1000, n_jobs=-1, oob_score=False,\n",
       "                      random_state=None, verbose=0, warm_start=False)"
      ]
     },
     "execution_count": 41,
     "metadata": {},
     "output_type": "execute_result"
    }
   ],
   "source": [
    "random_forest.fit(X_train, y_train)"
   ]
  },
  {
   "cell_type": "code",
   "execution_count": 42,
   "metadata": {},
   "outputs": [],
   "source": [
    "rf_test_pred = random_forest.predict(X_test)\n",
    "rf_train_pred = random_forest.predict(X_train)"
   ]
  },
  {
   "cell_type": "code",
   "execution_count": 43,
   "metadata": {},
   "outputs": [
    {
     "data": {
      "text/plain": [
       "669199.9698723967"
      ]
     },
     "execution_count": 43,
     "metadata": {},
     "output_type": "execute_result"
    }
   ],
   "source": [
    "mean_absolute_error(y_test,rf_test_pred)"
   ]
  },
  {
   "cell_type": "code",
   "execution_count": 44,
   "metadata": {},
   "outputs": [
    {
     "data": {
      "text/plain": [
       "600949.4038571818"
      ]
     },
     "execution_count": 44,
     "metadata": {},
     "output_type": "execute_result"
    }
   ],
   "source": [
    "mean_absolute_error(y_train,rf_train_pred)"
   ]
  },
  {
   "cell_type": "markdown",
   "metadata": {},
   "source": [
    "# KNN"
   ]
  },
  {
   "cell_type": "code",
   "execution_count": 45,
   "metadata": {},
   "outputs": [],
   "source": [
    "from sklearn.neighbors import KNeighborsRegressor"
   ]
  },
  {
   "cell_type": "code",
   "execution_count": 65,
   "metadata": {},
   "outputs": [],
   "source": [
    "knn = KNeighborsRegressor(n_neighbors=100).fit(X_train,y_train)"
   ]
  },
  {
   "cell_type": "code",
   "execution_count": 66,
   "metadata": {},
   "outputs": [],
   "source": [
    "knn_train_pred = knn.predict(X_train)\n",
    "knn_test_pred = knn.predict(X_test)"
   ]
  },
  {
   "cell_type": "code",
   "execution_count": 67,
   "metadata": {},
   "outputs": [
    {
     "data": {
      "text/plain": [
       "769481.0670179167"
      ]
     },
     "execution_count": 67,
     "metadata": {},
     "output_type": "execute_result"
    }
   ],
   "source": [
    "mean_absolute_error(y_test,knn_test_pred)"
   ]
  },
  {
   "cell_type": "code",
   "execution_count": 68,
   "metadata": {},
   "outputs": [
    {
     "data": {
      "text/plain": [
       "765334.5002345371"
      ]
     },
     "execution_count": 68,
     "metadata": {},
     "output_type": "execute_result"
    }
   ],
   "source": [
    "mean_absolute_error(y_train,knn_train_pred)"
   ]
  },
  {
   "cell_type": "markdown",
   "metadata": {},
   "source": [
    "# StackingRegressor"
   ]
  },
  {
   "cell_type": "code",
   "execution_count": 69,
   "metadata": {},
   "outputs": [],
   "source": [
    "from sklearn.ensemble import StackingRegressor"
   ]
  },
  {
   "cell_type": "code",
   "execution_count": 70,
   "metadata": {},
   "outputs": [],
   "source": [
    "estimators = [('xgbr',xgbr),\n",
    "              ('gbr',gbr),\n",
    "              ('etr',etr),\n",
    "              ('knn',knn),\n",
    "              ('random_forest',random_forest)]"
   ]
  },
  {
   "cell_type": "code",
   "execution_count": 71,
   "metadata": {},
   "outputs": [],
   "source": [
    "final = xgb.XGBRegressor(learning_rate=0.01,max_depth=3, n_estimators=500, n_jobs=-1, objective ='reg:squarederror')"
   ]
  },
  {
   "cell_type": "code",
   "execution_count": 72,
   "metadata": {},
   "outputs": [],
   "source": [
    "stacking_reg = StackingRegressor(estimators=estimators, final_estimator=final )"
   ]
  },
  {
   "cell_type": "code",
   "execution_count": 73,
   "metadata": {},
   "outputs": [
    {
     "data": {
      "text/plain": [
       "StackingRegressor(cv=None,\n",
       "                  estimators=[('xgbr',\n",
       "                               XGBRegressor(base_score=0.5, booster=None,\n",
       "                                            colsample_bylevel=1,\n",
       "                                            colsample_bynode=1,\n",
       "                                            colsample_bytree=1, gamma=0,\n",
       "                                            gpu_id=-1, importance_type='gain',\n",
       "                                            interaction_constraints=None,\n",
       "                                            learning_rate=0.03,\n",
       "                                            max_delta_step=0, max_depth=8,\n",
       "                                            min_child_weight=1, missing=nan,\n",
       "                                            monotone_constraints=None,\n",
       "                                            n_estimators=1000, n_jobs=-1,\n",
       "                                            nu...\n",
       "                                               max_delta_step=None, max_depth=3,\n",
       "                                               min_child_weight=None,\n",
       "                                               missing=nan,\n",
       "                                               monotone_constraints=None,\n",
       "                                               n_estimators=500, n_jobs=-1,\n",
       "                                               num_parallel_tree=None,\n",
       "                                               objective='reg:squarederror',\n",
       "                                               random_state=None,\n",
       "                                               reg_alpha=None, reg_lambda=None,\n",
       "                                               scale_pos_weight=None,\n",
       "                                               subsample=None, tree_method=None,\n",
       "                                               validate_parameters=False,\n",
       "                                               verbosity=None),\n",
       "                  n_jobs=None, passthrough=False, verbose=0)"
      ]
     },
     "execution_count": 73,
     "metadata": {},
     "output_type": "execute_result"
    }
   ],
   "source": [
    "stacking_reg.fit(X_train, y_train)"
   ]
  },
  {
   "cell_type": "code",
   "execution_count": 74,
   "metadata": {},
   "outputs": [],
   "source": [
    "s_test_pred = stacking_reg.predict(X_test)\n",
    "s_train_pred = stacking_reg.predict(X_train)"
   ]
  },
  {
   "cell_type": "code",
   "execution_count": 75,
   "metadata": {},
   "outputs": [
    {
     "data": {
      "text/plain": [
       "669199.9698723967"
      ]
     },
     "execution_count": 75,
     "metadata": {},
     "output_type": "execute_result"
    }
   ],
   "source": [
    "mean_absolute_error(y_test,rf_test_pred)"
   ]
  },
  {
   "cell_type": "code",
   "execution_count": 76,
   "metadata": {},
   "outputs": [
    {
     "data": {
      "text/plain": [
       "600949.4038571818"
      ]
     },
     "execution_count": 76,
     "metadata": {},
     "output_type": "execute_result"
    }
   ],
   "source": [
    "mean_absolute_error(y_train,rf_train_pred)"
   ]
  },
  {
   "cell_type": "markdown",
   "metadata": {},
   "source": [
    "## NN con Entity embeddings"
   ]
  },
  {
   "cell_type": "code",
   "execution_count": null,
   "metadata": {},
   "outputs": [],
   "source": [
    "from keras.layers import Dense, Dropout, Embedding, Input, Reshape, Concatenate\n",
    "from keras.models import Model\n",
    "import keras"
   ]
  },
  {
   "cell_type": "code",
   "execution_count": null,
   "metadata": {},
   "outputs": [],
   "source": [
    "X_train.columns"
   ]
  },
  {
   "cell_type": "code",
   "execution_count": null,
   "metadata": {},
   "outputs": [],
   "source": [
    "x_train_nn = X_train.drop([\"ciudad\",\"metrostotales\"],axis=1)\n",
    "x_val_nn = X_test.drop([\"ciudad\",\"metrostotales\"],axis=1)"
   ]
  },
  {
   "cell_type": "code",
   "execution_count": null,
   "metadata": {},
   "outputs": [],
   "source": [
    "cat_vars = ['tipodepropiedad','provincia','gimnasio','usosmultiples', 'piscina', 'zona', 'asenta']\n",
    "cont_vars = ['antiguedad', 'habitaciones','garages', 'banos', 'metroscubiertos','ano']"
   ]
  },
  {
   "cell_type": "code",
   "execution_count": null,
   "metadata": {},
   "outputs": [],
   "source": [
    "scaler = StandardScaler().fit(x_train_nn[cont_vars])"
   ]
  },
  {
   "cell_type": "code",
   "execution_count": null,
   "metadata": {},
   "outputs": [],
   "source": [
    "x_train_nn[cont_vars] = scaler.transform(x_train_nn[cont_vars])\n",
    "x_val_nn[cont_vars] = scaler.transform(x_val_nn[cont_vars])"
   ]
  },
  {
   "cell_type": "code",
   "execution_count": null,
   "metadata": {},
   "outputs": [],
   "source": [
    "from sklearn import preprocessing\n",
    "le_tipodepropiedad = preprocessing.LabelEncoder().fit(x_train_nn['tipodepropiedad'])\n",
    "le_provincia = preprocessing.LabelEncoder().fit(x_train_nn['provincia'])\n",
    "le_zona = preprocessing.LabelEncoder().fit(x_train_nn['zona'])\n",
    "le_asenta = preprocessing.LabelEncoder().fit(x_train_nn['asenta'])"
   ]
  },
  {
   "cell_type": "code",
   "execution_count": null,
   "metadata": {},
   "outputs": [],
   "source": [
    "x_train_nn['tipodepropiedad'] = le_tipodepropiedad.transform(x_train_nn['tipodepropiedad'])\n",
    "x_val_nn['tipodepropiedad'] = le_tipodepropiedad.transform(x_val_nn['tipodepropiedad'])\n",
    "\n",
    "x_train_nn['provincia'] = le_provincia.transform(x_train_nn['provincia'])\n",
    "x_val_nn['provincia'] = le_provincia.transform(x_val_nn['provincia'])\n",
    "\n",
    "x_train_nn['zona'] = le_zona.transform(x_train_nn['zona'])\n",
    "x_val_nn['zona'] = le_zona.transform(x_val_nn['zona'])\n",
    "\n",
    "x_train_nn['asenta'] = le_asenta.transform(x_train_nn['asenta'])\n",
    "x_val_nn['asenta'] = le_asenta.transform(x_val_nn['asenta'])"
   ]
  },
  {
   "cell_type": "code",
   "execution_count": null,
   "metadata": {},
   "outputs": [],
   "source": [
    "x_train = []\n",
    "x_val = []\n",
    "x_train.append(x_train_nn[cont_vars].astype('float32').values)\n",
    "x_val.append(x_val_nn[cont_vars].astype('float32').values)\n",
    "for cat in cat_vars:\n",
    "    x_train.append(x_train_nn[cat].values)\n",
    "    x_val.append(x_val_nn[cat].values)"
   ]
  },
  {
   "cell_type": "code",
   "execution_count": null,
   "metadata": {},
   "outputs": [],
   "source": [
    "cat_sizes = {}\n",
    "cat_embsizes = {}\n",
    "for cat in cat_vars:\n",
    "    cat_sizes[cat] = x_train_nn[cat].nunique()\n",
    "    cat_embsizes[cat] = min(50, cat_sizes[cat]//2+1)"
   ]
  },
  {
   "cell_type": "code",
   "execution_count": null,
   "metadata": {},
   "outputs": [],
   "source": [
    "ins = []\n",
    "concat = []"
   ]
  },
  {
   "cell_type": "code",
   "execution_count": null,
   "metadata": {},
   "outputs": [],
   "source": [
    "y = Dropout(0.4, input_shape=(len(cat_vars)+len(cont_vars),))\n",
    "y = Input((len(cont_vars),), name='cont_vars')\n",
    "ins.append(y)\n",
    "concat.append(y)"
   ]
  },
  {
   "cell_type": "code",
   "execution_count": null,
   "metadata": {},
   "outputs": [],
   "source": [
    "for cat in cat_vars:\n",
    "    x = Input((1,), name=cat)\n",
    "    ins.append(x)\n",
    "    x = Embedding(cat_sizes[cat]+1, cat_embsizes[cat], input_length=1)(x)\n",
    "    x = Reshape((cat_embsizes[cat],))(x)\n",
    "    concat.append(x)"
   ]
  },
  {
   "cell_type": "code",
   "execution_count": null,
   "metadata": {},
   "outputs": [],
   "source": [
    "y = Concatenate()(concat)\n",
    "y = Dense(512, activation= 'relu')(y)\n",
    "y = Dense(512, activation= 'relu')(y)\n",
    "y = Dense(512, activation= 'relu')(y)\n",
    "y = Dense(512, activation= 'relu')(y)\n",
    "y = Dense(1)(y)\n",
    "model = Model(ins, y)\n",
    "model.compile('adam', 'mean_absolute_error')"
   ]
  },
  {
   "cell_type": "code",
   "execution_count": null,
   "metadata": {},
   "outputs": [],
   "source": [
    "model.summary ()"
   ]
  },
  {
   "cell_type": "code",
   "execution_count": null,
   "metadata": {},
   "outputs": [],
   "source": [
    "from keras.utils import plot_model\n",
    "plot_model(model, to_file='model.png')"
   ]
  },
  {
   "cell_type": "code",
   "execution_count": null,
   "metadata": {},
   "outputs": [],
   "source": [
    "model.fit(x_train, y_train, \n",
    "          batch_size= 1024, \n",
    "          epochs = 100, \n",
    "          validation_data=(x_val, y_test),\n",
    "          callbacks=[keras.callbacks.EarlyStopping(patience=10)])"
   ]
  },
  {
   "cell_type": "markdown",
   "metadata": {
    "colab_type": "text",
    "id": "BjUQDQo7YWKK"
   },
   "source": [
    "# Submission\n"
   ]
  },
  {
   "cell_type": "code",
   "execution_count": 77,
   "metadata": {
    "colab": {},
    "colab_type": "code",
    "id": "EUQI5_mGYWKL"
   },
   "outputs": [],
   "source": [
    "holdout_df = pd.read_csv('./test_data_geocoded/test-geocoded-imputed.csv')\n",
    "#holdout_df = pd.read_csv('./test.csv',parse_dates=[\"fecha\"],index_col=\"id\")"
   ]
  },
  {
   "cell_type": "code",
   "execution_count": 78,
   "metadata": {},
   "outputs": [],
   "source": [
    "#holdout_df = before_split_pipeline.transform(holdout_df)"
   ]
  },
  {
   "cell_type": "code",
   "execution_count": 79,
   "metadata": {},
   "outputs": [],
   "source": [
    "holdout_df = after_split_pipeline.transform(holdout_df)"
   ]
  },
  {
   "cell_type": "code",
   "execution_count": 80,
   "metadata": {},
   "outputs": [
    {
     "data": {
      "text/html": [
       "<div>\n",
       "<style scoped>\n",
       "    .dataframe tbody tr th:only-of-type {\n",
       "        vertical-align: middle;\n",
       "    }\n",
       "\n",
       "    .dataframe tbody tr th {\n",
       "        vertical-align: top;\n",
       "    }\n",
       "\n",
       "    .dataframe thead th {\n",
       "        text-align: right;\n",
       "    }\n",
       "</style>\n",
       "<table border=\"1\" class=\"dataframe\">\n",
       "  <thead>\n",
       "    <tr style=\"text-align: right;\">\n",
       "      <th></th>\n",
       "      <th>tipodepropiedad</th>\n",
       "      <th>ciudad</th>\n",
       "      <th>provincia</th>\n",
       "      <th>antiguedad</th>\n",
       "      <th>habitaciones</th>\n",
       "      <th>garages</th>\n",
       "      <th>banos</th>\n",
       "      <th>metroscubiertos</th>\n",
       "      <th>metrostotales</th>\n",
       "      <th>gimnasio</th>\n",
       "      <th>usosmultiples</th>\n",
       "      <th>piscina</th>\n",
       "      <th>ano</th>\n",
       "      <th>cp</th>\n",
       "      <th>zona</th>\n",
       "      <th>asenta</th>\n",
       "    </tr>\n",
       "  </thead>\n",
       "  <tbody>\n",
       "    <tr>\n",
       "      <th>0</th>\n",
       "      <td>2.531417e+06</td>\n",
       "      <td>2.531417e+06</td>\n",
       "      <td>2.531417e+06</td>\n",
       "      <td>29.000000</td>\n",
       "      <td>3.0</td>\n",
       "      <td>2.1268</td>\n",
       "      <td>4.0</td>\n",
       "      <td>300.0</td>\n",
       "      <td>269.902704</td>\n",
       "      <td>0.0</td>\n",
       "      <td>0.0</td>\n",
       "      <td>0.0</td>\n",
       "      <td>2013.0</td>\n",
       "      <td>11700.0</td>\n",
       "      <td>2.561498e+06</td>\n",
       "      <td>2.591994e+06</td>\n",
       "    </tr>\n",
       "    <tr>\n",
       "      <th>1</th>\n",
       "      <td>2.531417e+06</td>\n",
       "      <td>2.531417e+06</td>\n",
       "      <td>2.531417e+06</td>\n",
       "      <td>1.088686</td>\n",
       "      <td>1.0</td>\n",
       "      <td>1.0000</td>\n",
       "      <td>1.0</td>\n",
       "      <td>67.0</td>\n",
       "      <td>67.000000</td>\n",
       "      <td>0.0</td>\n",
       "      <td>0.0</td>\n",
       "      <td>0.0</td>\n",
       "      <td>2015.0</td>\n",
       "      <td>97117.0</td>\n",
       "      <td>2.561498e+06</td>\n",
       "      <td>2.591994e+06</td>\n",
       "    </tr>\n",
       "    <tr>\n",
       "      <th>2</th>\n",
       "      <td>2.531417e+06</td>\n",
       "      <td>2.531417e+06</td>\n",
       "      <td>2.531417e+06</td>\n",
       "      <td>0.000000</td>\n",
       "      <td>2.0</td>\n",
       "      <td>1.0000</td>\n",
       "      <td>2.0</td>\n",
       "      <td>87.0</td>\n",
       "      <td>100.000000</td>\n",
       "      <td>0.0</td>\n",
       "      <td>0.0</td>\n",
       "      <td>0.0</td>\n",
       "      <td>2015.0</td>\n",
       "      <td>4369.0</td>\n",
       "      <td>2.561498e+06</td>\n",
       "      <td>2.591994e+06</td>\n",
       "    </tr>\n",
       "    <tr>\n",
       "      <th>3</th>\n",
       "      <td>2.531417e+06</td>\n",
       "      <td>2.531417e+06</td>\n",
       "      <td>2.531417e+06</td>\n",
       "      <td>2.000000</td>\n",
       "      <td>2.0</td>\n",
       "      <td>2.0000</td>\n",
       "      <td>2.0</td>\n",
       "      <td>86.0</td>\n",
       "      <td>86.000000</td>\n",
       "      <td>0.0</td>\n",
       "      <td>0.0</td>\n",
       "      <td>0.0</td>\n",
       "      <td>2015.0</td>\n",
       "      <td>39300.0</td>\n",
       "      <td>2.561498e+06</td>\n",
       "      <td>2.232977e+06</td>\n",
       "    </tr>\n",
       "    <tr>\n",
       "      <th>4</th>\n",
       "      <td>2.531417e+06</td>\n",
       "      <td>2.531417e+06</td>\n",
       "      <td>2.531417e+06</td>\n",
       "      <td>10.000000</td>\n",
       "      <td>2.0</td>\n",
       "      <td>1.0000</td>\n",
       "      <td>1.0</td>\n",
       "      <td>80.0</td>\n",
       "      <td>76.000000</td>\n",
       "      <td>0.0</td>\n",
       "      <td>0.0</td>\n",
       "      <td>0.0</td>\n",
       "      <td>2013.0</td>\n",
       "      <td>55717.0</td>\n",
       "      <td>2.561498e+06</td>\n",
       "      <td>1.578973e+06</td>\n",
       "    </tr>\n",
       "    <tr>\n",
       "      <th>...</th>\n",
       "      <td>...</td>\n",
       "      <td>...</td>\n",
       "      <td>...</td>\n",
       "      <td>...</td>\n",
       "      <td>...</td>\n",
       "      <td>...</td>\n",
       "      <td>...</td>\n",
       "      <td>...</td>\n",
       "      <td>...</td>\n",
       "      <td>...</td>\n",
       "      <td>...</td>\n",
       "      <td>...</td>\n",
       "      <td>...</td>\n",
       "      <td>...</td>\n",
       "      <td>...</td>\n",
       "      <td>...</td>\n",
       "    </tr>\n",
       "    <tr>\n",
       "      <th>59995</th>\n",
       "      <td>2.531417e+06</td>\n",
       "      <td>2.531417e+06</td>\n",
       "      <td>2.531417e+06</td>\n",
       "      <td>20.000000</td>\n",
       "      <td>4.0</td>\n",
       "      <td>3.0000</td>\n",
       "      <td>3.0</td>\n",
       "      <td>291.0</td>\n",
       "      <td>247.511873</td>\n",
       "      <td>0.0</td>\n",
       "      <td>0.0</td>\n",
       "      <td>0.0</td>\n",
       "      <td>2015.0</td>\n",
       "      <td>15540.0</td>\n",
       "      <td>2.561498e+06</td>\n",
       "      <td>2.591994e+06</td>\n",
       "    </tr>\n",
       "    <tr>\n",
       "      <th>59996</th>\n",
       "      <td>2.531417e+06</td>\n",
       "      <td>2.531417e+06</td>\n",
       "      <td>2.531417e+06</td>\n",
       "      <td>10.000000</td>\n",
       "      <td>3.0</td>\n",
       "      <td>1.0000</td>\n",
       "      <td>2.0</td>\n",
       "      <td>71.0</td>\n",
       "      <td>87.000000</td>\n",
       "      <td>0.0</td>\n",
       "      <td>0.0</td>\n",
       "      <td>0.0</td>\n",
       "      <td>2016.0</td>\n",
       "      <td>55240.0</td>\n",
       "      <td>2.561498e+06</td>\n",
       "      <td>2.591994e+06</td>\n",
       "    </tr>\n",
       "    <tr>\n",
       "      <th>59997</th>\n",
       "      <td>2.531417e+06</td>\n",
       "      <td>2.531417e+06</td>\n",
       "      <td>2.531417e+06</td>\n",
       "      <td>5.000000</td>\n",
       "      <td>3.0</td>\n",
       "      <td>2.0000</td>\n",
       "      <td>2.0</td>\n",
       "      <td>102.0</td>\n",
       "      <td>122.948249</td>\n",
       "      <td>0.0</td>\n",
       "      <td>0.0</td>\n",
       "      <td>0.0</td>\n",
       "      <td>2014.0</td>\n",
       "      <td>67188.0</td>\n",
       "      <td>2.561498e+06</td>\n",
       "      <td>2.591994e+06</td>\n",
       "    </tr>\n",
       "    <tr>\n",
       "      <th>59998</th>\n",
       "      <td>2.531417e+06</td>\n",
       "      <td>2.531417e+06</td>\n",
       "      <td>2.531417e+06</td>\n",
       "      <td>0.000000</td>\n",
       "      <td>2.0</td>\n",
       "      <td>1.0000</td>\n",
       "      <td>2.0</td>\n",
       "      <td>130.0</td>\n",
       "      <td>144.000000</td>\n",
       "      <td>0.0</td>\n",
       "      <td>0.0</td>\n",
       "      <td>0.0</td>\n",
       "      <td>2016.0</td>\n",
       "      <td>76060.0</td>\n",
       "      <td>2.561498e+06</td>\n",
       "      <td>2.591994e+06</td>\n",
       "    </tr>\n",
       "    <tr>\n",
       "      <th>59999</th>\n",
       "      <td>2.531417e+06</td>\n",
       "      <td>2.531417e+06</td>\n",
       "      <td>2.531417e+06</td>\n",
       "      <td>0.000000</td>\n",
       "      <td>3.0</td>\n",
       "      <td>2.0000</td>\n",
       "      <td>2.0</td>\n",
       "      <td>211.0</td>\n",
       "      <td>130.000000</td>\n",
       "      <td>0.0</td>\n",
       "      <td>0.0</td>\n",
       "      <td>0.0</td>\n",
       "      <td>2013.0</td>\n",
       "      <td>45034.0</td>\n",
       "      <td>2.561498e+06</td>\n",
       "      <td>2.591994e+06</td>\n",
       "    </tr>\n",
       "  </tbody>\n",
       "</table>\n",
       "<p>60000 rows × 16 columns</p>\n",
       "</div>"
      ],
      "text/plain": [
       "       tipodepropiedad        ciudad     provincia  antiguedad  habitaciones  \\\n",
       "0         2.531417e+06  2.531417e+06  2.531417e+06   29.000000           3.0   \n",
       "1         2.531417e+06  2.531417e+06  2.531417e+06    1.088686           1.0   \n",
       "2         2.531417e+06  2.531417e+06  2.531417e+06    0.000000           2.0   \n",
       "3         2.531417e+06  2.531417e+06  2.531417e+06    2.000000           2.0   \n",
       "4         2.531417e+06  2.531417e+06  2.531417e+06   10.000000           2.0   \n",
       "...                ...           ...           ...         ...           ...   \n",
       "59995     2.531417e+06  2.531417e+06  2.531417e+06   20.000000           4.0   \n",
       "59996     2.531417e+06  2.531417e+06  2.531417e+06   10.000000           3.0   \n",
       "59997     2.531417e+06  2.531417e+06  2.531417e+06    5.000000           3.0   \n",
       "59998     2.531417e+06  2.531417e+06  2.531417e+06    0.000000           2.0   \n",
       "59999     2.531417e+06  2.531417e+06  2.531417e+06    0.000000           3.0   \n",
       "\n",
       "       garages  banos  metroscubiertos  metrostotales  gimnasio  \\\n",
       "0       2.1268    4.0            300.0     269.902704       0.0   \n",
       "1       1.0000    1.0             67.0      67.000000       0.0   \n",
       "2       1.0000    2.0             87.0     100.000000       0.0   \n",
       "3       2.0000    2.0             86.0      86.000000       0.0   \n",
       "4       1.0000    1.0             80.0      76.000000       0.0   \n",
       "...        ...    ...              ...            ...       ...   \n",
       "59995   3.0000    3.0            291.0     247.511873       0.0   \n",
       "59996   1.0000    2.0             71.0      87.000000       0.0   \n",
       "59997   2.0000    2.0            102.0     122.948249       0.0   \n",
       "59998   1.0000    2.0            130.0     144.000000       0.0   \n",
       "59999   2.0000    2.0            211.0     130.000000       0.0   \n",
       "\n",
       "       usosmultiples  piscina     ano       cp          zona        asenta  \n",
       "0                0.0      0.0  2013.0  11700.0  2.561498e+06  2.591994e+06  \n",
       "1                0.0      0.0  2015.0  97117.0  2.561498e+06  2.591994e+06  \n",
       "2                0.0      0.0  2015.0   4369.0  2.561498e+06  2.591994e+06  \n",
       "3                0.0      0.0  2015.0  39300.0  2.561498e+06  2.232977e+06  \n",
       "4                0.0      0.0  2013.0  55717.0  2.561498e+06  1.578973e+06  \n",
       "...              ...      ...     ...      ...           ...           ...  \n",
       "59995            0.0      0.0  2015.0  15540.0  2.561498e+06  2.591994e+06  \n",
       "59996            0.0      0.0  2016.0  55240.0  2.561498e+06  2.591994e+06  \n",
       "59997            0.0      0.0  2014.0  67188.0  2.561498e+06  2.591994e+06  \n",
       "59998            0.0      0.0  2016.0  76060.0  2.561498e+06  2.591994e+06  \n",
       "59999            0.0      0.0  2013.0  45034.0  2.561498e+06  2.591994e+06  \n",
       "\n",
       "[60000 rows x 16 columns]"
      ]
     },
     "execution_count": 80,
     "metadata": {},
     "output_type": "execute_result"
    }
   ],
   "source": [
    "holdout_df"
   ]
  },
  {
   "cell_type": "code",
   "execution_count": 81,
   "metadata": {
    "colab": {
     "base_uri": "https://localhost:8080/",
     "height": 34
    },
    "colab_type": "code",
    "id": "rl9znH3fYWKW",
    "outputId": "9e3b656a-2e4b-4159-fc67-2eb100a53c69"
   },
   "outputs": [],
   "source": [
    "sumb_pred = gbr.predict(holdout_df)"
   ]
  },
  {
   "cell_type": "code",
   "execution_count": 84,
   "metadata": {},
   "outputs": [
    {
     "data": {
      "text/plain": [
       "array([6875172.20257003, 1040272.99070581, 2313983.33085909, ...,\n",
       "        870822.09441687, 1982696.28579622, 2203121.79020885])"
      ]
     },
     "execution_count": 84,
     "metadata": {},
     "output_type": "execute_result"
    }
   ],
   "source": [
    "sumb_pred"
   ]
  },
  {
   "cell_type": "code",
   "execution_count": 86,
   "metadata": {},
   "outputs": [
    {
     "data": {
      "text/html": [
       "<div>\n",
       "<style scoped>\n",
       "    .dataframe tbody tr th:only-of-type {\n",
       "        vertical-align: middle;\n",
       "    }\n",
       "\n",
       "    .dataframe tbody tr th {\n",
       "        vertical-align: top;\n",
       "    }\n",
       "\n",
       "    .dataframe thead th {\n",
       "        text-align: right;\n",
       "    }\n",
       "</style>\n",
       "<table border=\"1\" class=\"dataframe\">\n",
       "  <thead>\n",
       "    <tr style=\"text-align: right;\">\n",
       "      <th></th>\n",
       "      <th>id</th>\n",
       "      <th>target</th>\n",
       "    </tr>\n",
       "  </thead>\n",
       "  <tbody>\n",
       "    <tr>\n",
       "      <th>0</th>\n",
       "      <td>0</td>\n",
       "      <td>6.875172e+06</td>\n",
       "    </tr>\n",
       "    <tr>\n",
       "      <th>1</th>\n",
       "      <td>1</td>\n",
       "      <td>1.040273e+06</td>\n",
       "    </tr>\n",
       "    <tr>\n",
       "      <th>2</th>\n",
       "      <td>2</td>\n",
       "      <td>2.313983e+06</td>\n",
       "    </tr>\n",
       "    <tr>\n",
       "      <th>3</th>\n",
       "      <td>3</td>\n",
       "      <td>1.168673e+06</td>\n",
       "    </tr>\n",
       "    <tr>\n",
       "      <th>4</th>\n",
       "      <td>4</td>\n",
       "      <td>5.448702e+05</td>\n",
       "    </tr>\n",
       "    <tr>\n",
       "      <th>...</th>\n",
       "      <td>...</td>\n",
       "      <td>...</td>\n",
       "    </tr>\n",
       "    <tr>\n",
       "      <th>59995</th>\n",
       "      <td>59995</td>\n",
       "      <td>3.967030e+06</td>\n",
       "    </tr>\n",
       "    <tr>\n",
       "      <th>59996</th>\n",
       "      <td>59996</td>\n",
       "      <td>7.460334e+05</td>\n",
       "    </tr>\n",
       "    <tr>\n",
       "      <th>59997</th>\n",
       "      <td>59997</td>\n",
       "      <td>8.708221e+05</td>\n",
       "    </tr>\n",
       "    <tr>\n",
       "      <th>59998</th>\n",
       "      <td>59998</td>\n",
       "      <td>1.982696e+06</td>\n",
       "    </tr>\n",
       "    <tr>\n",
       "      <th>59999</th>\n",
       "      <td>59999</td>\n",
       "      <td>2.203122e+06</td>\n",
       "    </tr>\n",
       "  </tbody>\n",
       "</table>\n",
       "<p>60000 rows × 2 columns</p>\n",
       "</div>"
      ],
      "text/plain": [
       "          id        target\n",
       "0          0  6.875172e+06\n",
       "1          1  1.040273e+06\n",
       "2          2  2.313983e+06\n",
       "3          3  1.168673e+06\n",
       "4          4  5.448702e+05\n",
       "...      ...           ...\n",
       "59995  59995  3.967030e+06\n",
       "59996  59996  7.460334e+05\n",
       "59997  59997  8.708221e+05\n",
       "59998  59998  1.982696e+06\n",
       "59999  59999  2.203122e+06\n",
       "\n",
       "[60000 rows x 2 columns]"
      ]
     },
     "execution_count": 86,
     "metadata": {},
     "output_type": "execute_result"
    }
   ],
   "source": [
    "subm_df = pd.DataFrame({\"id\":holdout_df.index,\"target\":sumb_pred})\n",
    "subm_df"
   ]
  },
  {
   "cell_type": "code",
   "execution_count": 87,
   "metadata": {},
   "outputs": [],
   "source": [
    "subm_df.to_csv(\"sumb_final_pipeline.csv\",index=False)"
   ]
  },
  {
   "cell_type": "markdown",
   "metadata": {
    "colab_type": "text",
    "id": "-dirDSFTYWKZ"
   },
   "source": [
    "# Guardo modelos entrenados"
   ]
  },
  {
   "cell_type": "code",
   "execution_count": null,
   "metadata": {
    "colab": {},
    "colab_type": "code",
    "id": "8pfmXEPxYWKa"
   },
   "outputs": [],
   "source": [
    "import pickle\n",
    "from joblib import dump, load"
   ]
  },
  {
   "cell_type": "code",
   "execution_count": null,
   "metadata": {
    "colab": {},
    "colab_type": "code",
    "id": "m70oiqLJYWKd"
   },
   "outputs": [],
   "source": [
    "dump(xgbr, 'xgbr-v3.joblib') \n",
    "dump(preprocessing_pipeline, 'preprocessing_pipeline-v3.joblib') "
   ]
  },
  {
   "cell_type": "code",
   "execution_count": null,
   "metadata": {
    "colab": {},
    "colab_type": "code",
    "id": "KpSEtHyDYWKh"
   },
   "outputs": [],
   "source": [
    "e"
   ]
  }
 ],
 "metadata": {
  "colab": {
   "collapsed_sections": [],
   "name": "geocoder-v2.ipynb",
   "provenance": [],
   "toc_visible": true
  },
  "kernelspec": {
   "display_name": "Python 3",
   "language": "python",
   "name": "python3"
  },
  "language_info": {
   "codemirror_mode": {
    "name": "ipython",
    "version": 3
   },
   "file_extension": ".py",
   "mimetype": "text/x-python",
   "name": "python",
   "nbconvert_exporter": "python",
   "pygments_lexer": "ipython3",
   "version": "3.7.6"
  }
 },
 "nbformat": 4,
 "nbformat_minor": 4
}
