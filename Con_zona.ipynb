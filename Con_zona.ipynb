{
 "cells": [
  {
   "cell_type": "code",
   "execution_count": 1,
   "metadata": {},
   "outputs": [],
   "source": [
    "import numpy as np\n",
    "import pandas as pd\n",
    "import spacy\n",
    "from spacy.lang.es.stop_words import STOP_WORDS\n",
    "import re\n",
    "from bs4 import BeautifulSoup\n",
    "from sklearn.model_selection import train_test_split\n",
    "from sklearn.pipeline import FeatureUnion, Pipeline \n",
    "from sklearn.experimental import enable_iterative_imputer\n",
    "from sklearn.impute import IterativeImputer\n",
    "from sklearn.metrics import mean_absolute_error\n",
    "import xgboost as xgb\n",
    "from sklearn.ensemble import GradientBoostingRegressor\n",
    "from sklearn.ensemble import ExtraTreesRegressor\n",
    "from sklearn.ensemble import RandomForestRegressor\n",
    "from sklearn.base import BaseEstimator, TransformerMixin\n",
    "from sklearn.preprocessing import OneHotEncoder, StandardScaler, LabelEncoder\n",
    "from sklearn.feature_extraction.text import CountVectorizer, TfidfTransformer\n",
    "from sklearn.decomposition import TruncatedSVD\n",
    "import category_encoders as ce \n",
    "import warnings\n",
    "warnings.filterwarnings('ignore')"
   ]
  },
  {
   "cell_type": "code",
   "execution_count": 2,
   "metadata": {},
   "outputs": [],
   "source": [
    "nlp = spacy.load('es_core_news_sm', disable=['ner','parser'])"
   ]
  },
  {
   "cell_type": "code",
   "execution_count": 3,
   "metadata": {},
   "outputs": [],
   "source": [
    "train = pd.read_csv(\"train_con_zona.csv\", parse_dates=['fecha'])\n",
    "val = pd.read_csv(\"test_con_zona.csv\", parse_dates=['fecha'])"
   ]
  },
  {
   "cell_type": "code",
   "execution_count": 4,
   "metadata": {},
   "outputs": [],
   "source": [
    "class TituloDescripcionConcat( BaseEstimator, TransformerMixin ):\n",
    "    '''\n",
    "    Se concatena la columna texto con la columna descripccion en una nueva columna llamada \"text\"\n",
    "    '''\n",
    "    def __init__( self ):\n",
    "        pass\n",
    "      \n",
    "    def fit( self, X, y = None ):\n",
    "        return self \n",
    "    \n",
    "    def transform( self, X, y = None ):\n",
    "        X.descripcion = X.descripcion.fillna(\" \")\n",
    "        X.titulo = X.titulo.fillna(\" \")\n",
    "        X[\"text\"] = X[\"titulo\"] + \" \" + X[\"descripcion\"]\n",
    "        X = X[[\"text\"]]\n",
    "        return X"
   ]
  },
  {
   "cell_type": "code",
   "execution_count": 5,
   "metadata": {},
   "outputs": [],
   "source": [
    "class HtmlCleaner( BaseEstimator, TransformerMixin ):\n",
    "    '''\n",
    "    Se limpia todo el html que hay en la columna text\n",
    "    '''\n",
    "    def __init__( self ):\n",
    "        pass\n",
    "    \n",
    "    def clean_html(self,raw_html):\n",
    "        soup = BeautifulSoup(raw_html)\n",
    "        text = soup.get_text()\n",
    "        return text\n",
    "      \n",
    "    def fit( self, X, y = None ):\n",
    "        return self \n",
    "    \n",
    "    def transform( self, X, y = None ):\n",
    "        X.text = [self.clean_html(text) for text in X.text]\n",
    "        return X"
   ]
  },
  {
   "cell_type": "code",
   "execution_count": 6,
   "metadata": {},
   "outputs": [],
   "source": [
    "import string\n",
    "class TextCleaner( BaseEstimator, TransformerMixin ):\n",
    "    '''\n",
    "    Se limpian stopwords, numeros, puntuaciones y se convierten las palabras a raiz\n",
    "    '''\n",
    "    def __init__( self ):\n",
    "        pass\n",
    "    \n",
    "    def cleanup_text(self, doc):\n",
    "        txt = [token.lemma_ for token in doc if not token.is_stop]\n",
    "        return ' '.join(txt)\n",
    "        \n",
    "    def fit( self, X, y = None ):\n",
    "        return self \n",
    "    \n",
    "    def transform( self, X, y = None ):\n",
    "        brief_cleaning = (re.sub(\"[^A-Za-z']+\",' ', str(row)).lower() for row in X['text'])\n",
    "        txt = [self.cleanup_text(doc) for doc in nlp.pipe(brief_cleaning, batch_size=5000, n_threads = -1)]\n",
    "        X = pd.DataFrame({'text':txt})\n",
    "        return X.text"
   ]
  },
  {
   "cell_type": "code",
   "execution_count": 7,
   "metadata": {},
   "outputs": [],
   "source": [
    "#Iterative imputer en los valores faltantes\n",
    "class MissingValuesImputer( BaseEstimator, TransformerMixin ):\n",
    "      \n",
    "    def __init__( self, features_to_impute ):\n",
    "        self._features_to_impute = features_to_impute\n",
    "        \n",
    "    def fit( self, X, y = None ):\n",
    "        return self \n",
    "    \n",
    "    def transform( self, X, y = None ):\n",
    "        imp = IterativeImputer(missing_values=np.nan, max_iter=30, random_state=42)\n",
    "        X[features_to_impute] = imp.fit_transform(X[features_to_impute])\n",
    "        return X"
   ]
  },
  {
   "cell_type": "code",
   "execution_count": 8,
   "metadata": {},
   "outputs": [],
   "source": [
    "# Dropear columnas que no se usan\n",
    "class DropFeatures( BaseEstimator, TransformerMixin ):\n",
    "    \n",
    "    def __init__( self, features_to_drop ):\n",
    "        self._features_to_drop = features_to_drop \n",
    "      \n",
    "    def fit( self, X, y = None ):\n",
    "        return self \n",
    "    \n",
    "    def transform( self, X, y = None ):\n",
    "        for feat in self._features_to_drop:\n",
    "            if feat in X.columns:\n",
    "                X = X.drop(feat, axis=1)\n",
    "        return X"
   ]
  },
  {
   "cell_type": "code",
   "execution_count": 9,
   "metadata": {},
   "outputs": [],
   "source": [
    "#Encoder para las categorias\n",
    "class CategoryEncoder( BaseEstimator, TransformerMixin ):\n",
    "      \n",
    "    def fit( self, X, y = None ):\n",
    "        self.ciudad_te = ce.TargetEncoder().fit(X['ciudad'], X['precio'])\n",
    "        self.tipo_te = ce.TargetEncoder().fit(X['tipodepropiedad'], X['precio'])\n",
    "        self.prov_te = ce.TargetEncoder().fit(X['provincia'], X['precio'])\n",
    "        self.zona_te = ce.TargetEncoder().fit(X['zona'], X['precio'])\n",
    "        return self \n",
    "    \n",
    "    def transform( self, X, y = None ):\n",
    "        X['ciudad'] = self.ciudad_te.transform(X['ciudad'])\n",
    "        X['tipodepropiedad'] = self.tipo_te.transform(X['tipodepropiedad'])\n",
    "        X['provincia'] = self.prov_te.transform(X['provincia'])\n",
    "        X['zona'] = self.zona_te.transform(X['zona'])\n",
    "        return X"
   ]
  },
  {
   "cell_type": "code",
   "execution_count": 10,
   "metadata": {},
   "outputs": [],
   "source": [
    "#Tomo el año de las fechas\n",
    "class DateTransformer( BaseEstimator, TransformerMixin ):\n",
    "      \n",
    "    def fit( self, X, y = None ):\n",
    "        return self \n",
    "    \n",
    "    def transform( self, X, y = None ):\n",
    "        X['ano'] = X.fecha.dt.year\n",
    "        X = X.drop('fecha',axis=1)\n",
    "        return X"
   ]
  },
  {
   "cell_type": "code",
   "execution_count": 11,
   "metadata": {},
   "outputs": [],
   "source": [
    "features_to_drop = ['lat','lng','direccion','idzona','id','titulo','descripcion','text','centroscomercialescercanos','escuelascercanas']\n",
    "\n",
    "features_to_impute = ['gimnasio', 'usosmultiples', 'piscina', 'tipodepropiedad','ciudad','provincia',\n",
    "                      'habitaciones','garages','banos','metroscubiertos','ano','metrostotales','antiguedad']\n",
    "\n",
    "text_preprocessing_pipeline = Pipeline( steps =   [ ('concat_titulo_descripcion',TituloDescripcionConcat()),\n",
    "                                                    ('clean_html',HtmlCleaner()),\n",
    "                                                    ('clean_text',TextCleaner()),\n",
    "                                                    ('bow', CountVectorizer(max_features = 800)),\n",
    "                                                    ('tfidf', TfidfTransformer()),\n",
    "                                                    ('reduce_dim',TruncatedSVD(n_components=20))\n",
    "                                                  ])\n",
    "\n",
    "features_preprocessing_pipeline = Pipeline( steps =   [ ('drop', DropFeatures(features_to_drop)),\n",
    "                                                        ('date_transformer',DateTransformer()),\n",
    "                                                        ('category_encoder',CategoryEncoder()),\n",
    "                                                        ('drop_target', DropFeatures(['precio'])),\n",
    "                                                        ('missing_values_imputer',MissingValuesImputer(features_to_impute)),\n",
    "                                                        ('scale', StandardScaler())\n",
    "                                                       ] )\n",
    "\n",
    "preprocessing = FeatureUnion([('generate_text_features',text_preprocessing_pipeline),\n",
    "                                ('preprocess_features', features_preprocessing_pipeline)\n",
    "                               ])"
   ]
  },
  {
   "cell_type": "markdown",
   "metadata": {},
   "source": [
    "En este pruebo Agregar tipo de zona (urbano/etc)"
   ]
  },
  {
   "cell_type": "code",
   "execution_count": 12,
   "metadata": {},
   "outputs": [],
   "source": [
    "train_df , test_df = train_test_split(train, test_size=0.2)"
   ]
  },
  {
   "cell_type": "code",
   "execution_count": 13,
   "metadata": {},
   "outputs": [],
   "source": [
    "y_train = train_df.precio\n",
    "y_test = test_df.precio"
   ]
  },
  {
   "cell_type": "code",
   "execution_count": 14,
   "metadata": {},
   "outputs": [
    {
     "name": "stdout",
     "output_type": "stream",
     "text": [
      "Wall time: 9min 29s\n"
     ]
    }
   ],
   "source": [
    "%%time\n",
    "X_train = preprocessing.fit_transform(train_df)"
   ]
  },
  {
   "cell_type": "code",
   "execution_count": 15,
   "metadata": {},
   "outputs": [
    {
     "name": "stdout",
     "output_type": "stream",
     "text": [
      "Wall time: 2min 20s\n"
     ]
    }
   ],
   "source": [
    "%%time\n",
    "X_test = preprocessing.transform(test_df)"
   ]
  },
  {
   "cell_type": "code",
   "execution_count": 16,
   "metadata": {},
   "outputs": [
    {
     "name": "stdout",
     "output_type": "stream",
     "text": [
      "Wall time: 2min 55s\n"
     ]
    }
   ],
   "source": [
    "%%time\n",
    "val_prep = preprocessing.transform(val)"
   ]
  },
  {
   "cell_type": "markdown",
   "metadata": {},
   "source": [
    "# Modelos"
   ]
  },
  {
   "cell_type": "markdown",
   "metadata": {},
   "source": [
    "## XGB"
   ]
  },
  {
   "cell_type": "code",
   "execution_count": 17,
   "metadata": {},
   "outputs": [
    {
     "name": "stdout",
     "output_type": "stream",
     "text": [
      "Wall time: 6min 57s\n"
     ]
    }
   ],
   "source": [
    "%%time\n",
    "xgbr = xgb.XGBRegressor(learning_rate=0.03,max_depth=8, n_estimators=1000, n_jobs=-1, objective ='reg:squarederror')\n",
    "xgbr.fit(X_train,y_train)\n",
    "xgbr_test_pred = xgbr.predict(X_test)\n",
    "xgbr_train_pred = xgbr.predict(X_train)"
   ]
  },
  {
   "cell_type": "code",
   "execution_count": 18,
   "metadata": {},
   "outputs": [
    {
     "data": {
      "text/plain": [
       "568064.131303711"
      ]
     },
     "execution_count": 18,
     "metadata": {},
     "output_type": "execute_result"
    }
   ],
   "source": [
    "mean_absolute_error(y_test,xgbr_test_pred)"
   ]
  },
  {
   "cell_type": "code",
   "execution_count": 19,
   "metadata": {},
   "outputs": [
    {
     "data": {
      "text/plain": [
       "455250.89979740395"
      ]
     },
     "execution_count": 19,
     "metadata": {},
     "output_type": "execute_result"
    }
   ],
   "source": [
    "mean_absolute_error(y_train,xgbr_train_pred)"
   ]
  },
  {
   "cell_type": "code",
   "execution_count": 20,
   "metadata": {},
   "outputs": [],
   "source": [
    "subm_preds = xgbr.predict(val_prep)\n",
    "subm = pd.DataFrame({'id':val.id, 'target':subm_preds})\n",
    "subm.to_csv(\"Xgbr_subm.csv\", index=False)"
   ]
  },
  {
   "cell_type": "markdown",
   "metadata": {},
   "source": [
    "# NN"
   ]
  },
  {
   "cell_type": "code",
   "execution_count": 21,
   "metadata": {},
   "outputs": [
    {
     "name": "stderr",
     "output_type": "stream",
     "text": [
      "Using TensorFlow backend.\n"
     ]
    }
   ],
   "source": [
    "from keras.layers import Dense, Dropout, Input\n",
    "from keras.models import Sequential\n",
    "from keras import optimizers\n",
    "import keras"
   ]
  },
  {
   "cell_type": "code",
   "execution_count": 22,
   "metadata": {},
   "outputs": [],
   "source": [
    "model = Sequential()\n",
    "model.add(Dropout(0.2, input_shape=(X_train.shape[1],)))\n",
    "model.add(Dense(512, activation='relu'))\n",
    "model.add(Dropout(0.1))\n",
    "model.add(Dense(512, activation='relu'))\n",
    "model.add(Dropout(0.1))\n",
    "model.add(Dense(256, activation='relu'))\n",
    "model.add(Dense(1,))"
   ]
  },
  {
   "cell_type": "code",
   "execution_count": 23,
   "metadata": {},
   "outputs": [],
   "source": [
    "adam = keras.optimizers.Adam(learning_rate=0.001)\n",
    "model.compile(adam, 'mean_absolute_error')"
   ]
  },
  {
   "cell_type": "code",
   "execution_count": 24,
   "metadata": {},
   "outputs": [
    {
     "data": {
      "image/png": "[encoded data removed]",
      "text/plain": [
       "<IPython.core.display.Image object>"
      ]
     },
     "execution_count": 24,
     "metadata": {},
     "output_type": "execute_result"
    }
   ],
   "source": [
    "from keras.utils import plot_model\n",
    "plot_model(model, to_file='model.png')"
   ]
  },
  {
   "cell_type": "code",
   "execution_count": 25,
   "metadata": {},
   "outputs": [
    {
     "name": "stdout",
     "output_type": "stream",
     "text": [
      "Train on 192000 samples, validate on 48000 samples\n",
      "Epoch 1/100\n",
      "192000/192000 [==============================] - 16s 83us/step - loss: 1686410.1128 - val_loss: 808432.6980\n",
      "Epoch 2/100\n",
      "192000/192000 [==============================] - 14s 72us/step - loss: 867495.2048 - val_loss: 747498.0127\n",
      "Epoch 3/100\n",
      "192000/192000 [==============================] - 13s 70us/step - loss: 841042.9872 - val_loss: 731905.4665\n",
      "Epoch 4/100\n",
      "192000/192000 [==============================] - 14s 73us/step - loss: 829233.8825 - val_loss: 723683.2633\n",
      "Epoch 5/100\n",
      "192000/192000 [==============================] - 14s 75us/step - loss: 823669.9627 - val_loss: 719071.8558\n",
      "Epoch 6/100\n",
      "192000/192000 [==============================] - 13s 65us/step - loss: 819175.4542 - val_loss: 714056.9862\n",
      "Epoch 7/100\n",
      "192000/192000 [==============================] - 14s 75us/step - loss: 815449.7467 - val_loss: 710783.3935\n",
      "Epoch 8/100\n",
      "192000/192000 [==============================] - 16s 82us/step - loss: 812155.6550 - val_loss: 711081.9592\n",
      "Epoch 9/100\n",
      "192000/192000 [==============================] - 13s 68us/step - loss: 810036.5182 - val_loss: 708992.7838\n",
      "Epoch 10/100\n",
      "192000/192000 [==============================] - 12s 65us/step - loss: 810220.0263 - val_loss: 707583.2397\n",
      "Epoch 11/100\n",
      "192000/192000 [==============================] - 12s 63us/step - loss: 808942.6048 - val_loss: 712623.2867\n",
      "Epoch 12/100\n",
      "192000/192000 [==============================] - 16s 81us/step - loss: 807608.7808 - val_loss: 707970.1815\n",
      "Epoch 13/100\n",
      "192000/192000 [==============================] - 15s 78us/step - loss: 807551.0843 - val_loss: 703587.8555\n",
      "Epoch 14/100\n",
      "192000/192000 [==============================] - 14s 75us/step - loss: 806133.7088 - val_loss: 703155.3103\n",
      "Epoch 15/100\n",
      "192000/192000 [==============================] - 14s 75us/step - loss: 804849.3367 - val_loss: 705812.9135\n",
      "Epoch 16/100\n",
      "192000/192000 [==============================] - 14s 74us/step - loss: 802529.0265 - val_loss: 702860.2238\n",
      "Epoch 17/100\n",
      "192000/192000 [==============================] - 14s 73us/step - loss: 801874.8020 - val_loss: 698404.1865\n",
      "Epoch 18/100\n",
      "192000/192000 [==============================] - 14s 75us/step - loss: 803525.5195 - val_loss: 704163.9603\n",
      "Epoch 19/100\n",
      "192000/192000 [==============================] - 15s 80us/step - loss: 798866.1648 - val_loss: 698861.4688\n",
      "Epoch 20/100\n",
      "192000/192000 [==============================] - 12s 63us/step - loss: 797977.9748 - val_loss: 699828.3945\n",
      "Epoch 21/100\n",
      "192000/192000 [==============================] - 13s 67us/step - loss: 797648.2092 - val_loss: 700082.1052\n",
      "Epoch 22/100\n",
      "192000/192000 [==============================] - 14s 72us/step - loss: 797566.8620 - val_loss: 697519.7082\n",
      "Epoch 23/100\n",
      "192000/192000 [==============================] - 15s 76us/step - loss: 797232.8613 - val_loss: 691541.1753\n",
      "Epoch 24/100\n",
      "192000/192000 [==============================] - 14s 75us/step - loss: 796694.8903 - val_loss: 700418.3638\n",
      "Epoch 25/100\n",
      "192000/192000 [==============================] - 14s 75us/step - loss: 796060.7358 - val_loss: 694794.2812\n",
      "Epoch 26/100\n",
      "192000/192000 [==============================] - 14s 73us/step - loss: 795697.0262 - val_loss: 693343.1313\n",
      "Epoch 27/100\n",
      "192000/192000 [==============================] - 14s 71us/step - loss: 794508.0482 - val_loss: 692423.1212\n",
      "Epoch 28/100\n",
      "192000/192000 [==============================] - 14s 74us/step - loss: 793230.0357 - val_loss: 695501.8523\n",
      "Epoch 29/100\n",
      "192000/192000 [==============================] - 14s 75us/step - loss: 794970.6633 - val_loss: 690149.5183\n",
      "Epoch 30/100\n",
      "192000/192000 [==============================] - 14s 74us/step - loss: 793081.6027 - val_loss: 695111.0295\n",
      "Epoch 31/100\n",
      "192000/192000 [==============================] - 14s 72us/step - loss: 793045.0755 - val_loss: 698365.7758\n",
      "Epoch 32/100\n",
      "192000/192000 [==============================] - 14s 72us/step - loss: 793535.2068 - val_loss: 691397.8005\n",
      "Epoch 33/100\n",
      "192000/192000 [==============================] - 14s 75us/step - loss: 792704.4930 - val_loss: 692704.1138\n",
      "Epoch 34/100\n",
      "192000/192000 [==============================] - 14s 72us/step - loss: 791922.0020 - val_loss: 696693.5275\n",
      "Epoch 35/100\n",
      "192000/192000 [==============================] - 14s 73us/step - loss: 789316.9937 - val_loss: 695942.8580\n",
      "Wall time: 8min 13s\n"
     ]
    },
    {
     "data": {
      "text/plain": [
       "<keras.callbacks.callbacks.History at 0x23e28eaddc8>"
      ]
     },
     "execution_count": 25,
     "metadata": {},
     "output_type": "execute_result"
    }
   ],
   "source": [
    "%%time\n",
    "model.fit(X_train, y_train, \n",
    "          batch_size= 512, \n",
    "          epochs = 100, \n",
    "          validation_data=(X_test, y_test),\n",
    "          callbacks=[keras.callbacks.EarlyStopping(patience=6)])"
   ]
  },
  {
   "cell_type": "code",
   "execution_count": 26,
   "metadata": {},
   "outputs": [],
   "source": [
    "subm_preds = model.predict(val_prep).ravel()\n",
    "subm = pd.DataFrame({'id':val.id, 'target':subm_preds.ravel()})\n",
    "subm.to_csv(\"NN_subm.csv\", index=False)"
   ]
  },
  {
   "cell_type": "markdown",
   "metadata": {},
   "source": [
    "## Random forest"
   ]
  },
  {
   "cell_type": "code",
   "execution_count": 27,
   "metadata": {},
   "outputs": [
    {
     "ename": "SyntaxError",
     "evalue": "invalid syntax (<ipython-input-27-89281e643169>, line 1)",
     "output_type": "error",
     "traceback": [
      "\u001b[1;36m  File \u001b[1;32m\"<ipython-input-27-89281e643169>\"\u001b[1;36m, line \u001b[1;32m1\u001b[0m\n\u001b[1;33m    from skl earn.ensemble import RandomForestRegressor\u001b[0m\n\u001b[1;37m                ^\u001b[0m\n\u001b[1;31mSyntaxError\u001b[0m\u001b[1;31m:\u001b[0m invalid syntax\n"
     ]
    }
   ],
   "source": [
    "from skl earn.ensemble import RandomForestRegressor"
   ]
  },
  {
   "cell_type": "code",
   "execution_count": null,
   "metadata": {},
   "outputs": [],
   "source": [
    "%%time\n",
    "random_forest = RandomForestRegressor(max_depth=20, n_estimators=1000, min_samples_leaf=20, n_jobs=-1)\n",
    "random_forest.fit(X_train, y_train)\n",
    "pred_train = random_forest.predict(X_train)\n",
    "pred_test = random_forest.predict(X_test)"
   ]
  },
  {
   "cell_type": "code",
   "execution_count": null,
   "metadata": {},
   "outputs": [],
   "source": [
    "print(\"Train \"+str(mean_absolute_error(y_train, pred_train)))\n",
    "print(\"Test \"+str(mean_absolute_error(y_test, pred_test)))"
   ]
  },
  {
   "cell_type": "code",
   "execution_count": null,
   "metadata": {},
   "outputs": [],
   "source": [
    "subm_preds = random_forest.predict(val_prep)\n",
    "subm = pd.DataFrame({'id':val.id, 'target':subm_preds})\n",
    "subm.to_csv(\"Rf_subm.csv\", index=False)"
   ]
  }
 ],
 "metadata": {
  "kernelspec": {
   "display_name": "Python 3",
   "language": "python",
   "name": "python3"
  },
  "language_info": {
   "codemirror_mode": {
    "name": "ipython",
    "version": 3
   },
   "file_extension": ".py",
   "mimetype": "text/x-python",
   "name": "python",
   "nbconvert_exporter": "python",
   "pygments_lexer": "ipython3",
   "version": "3.7.6"
  }
 },
 "nbformat": 4,
 "nbformat_minor": 4
}
